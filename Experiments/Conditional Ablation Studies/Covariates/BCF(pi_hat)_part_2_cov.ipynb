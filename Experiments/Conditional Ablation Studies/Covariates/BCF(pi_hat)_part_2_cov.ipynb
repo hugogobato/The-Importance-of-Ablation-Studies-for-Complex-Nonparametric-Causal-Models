{
  "cells": [
    {
      "cell_type": "code",
      "execution_count": 1,
      "id": "1be16b50",
      "metadata": {
        "vscode": {
          "languageId": "r"
        },
        "id": "1be16b50"
      },
      "outputs": [],
      "source": [
        "# Sigmoid function (equivalent to Python's numpy version)\n",
        "sigmoid <- function(x) {\n",
        "  return(1 / (1 + exp(-x)))\n",
        "}\n",
        "\n",
        "# Generalized function to simulate data\n",
        "simulate_data_mode5_generalized <- function(n = 1000, p = 5, sigma = 1.0) {\n",
        "\n",
        "  # Check for minimum number of covariates and if p is a multiple of 5\n",
        "  if (p < 5) {\n",
        "    stop(\"Number of covariates (p) should be at least 5.\")\n",
        "  }\n",
        "  if (p %% 5 != 0) {\n",
        "    stop(\"Number of covariates (p) must be a multiple of 5 for this generalization.\")\n",
        "  }\n",
        "\n",
        "  # Generate covariates\n",
        "  X <- matrix(runif(n * p), nrow = n, ncol = p)\n",
        "\n",
        "  # Calculate expected outcome (baseline) 'b'\n",
        "  # It will be the sum of contributions from each block of 5 covariates,\n",
        "  # divided by the number of blocks to keep the average magnitude similar.\n",
        "\n",
        "  num_blocks <- p / 5\n",
        "  b_sum_contributions <- numeric(n) # Initialize a vector of zeros of length n\n",
        "\n",
        "  for (k_block in 0:(num_blocks - 1)) {\n",
        "    # Define the column indices for the current block\n",
        "    # R is 1-indexed, so we add 1 to 0-indexed block calculations\n",
        "    col_offset <- k_block * 5\n",
        "\n",
        "    # Indices within X for the current block's terms\n",
        "    # Relative to the start of the block, they are 1, 2, 3, 4, 5\n",
        "    # Absolute column indices in X:\n",
        "    idx_for_min1 <- col_offset + 1\n",
        "    idx_for_min2 <- col_offset + 2\n",
        "    idx_for_sq   <- col_offset + 3\n",
        "    idx_for_sin  <- col_offset + 4\n",
        "    idx_for_lin  <- col_offset + 5\n",
        "\n",
        "    current_block_contribution <- (\n",
        "      sin(pi * X[, idx_for_sin])\n",
        "      + 2 * (X[, idx_for_sq] - 0.5)^2\n",
        "      + apply(X[, c(idx_for_min1, idx_for_min2), drop = FALSE], 1, min)\n",
        "      + 0.5 * X[, idx_for_lin]\n",
        "    )\n",
        "    b_sum_contributions <- b_sum_contributions + current_block_contribution\n",
        "  }\n",
        "\n",
        "  # Average the contributions\n",
        "  b <- b_sum_contributions / num_blocks\n",
        "\n",
        "  # Calculate propensity score 'e'\n",
        "  e <- 0.05 + 0.9 * pbeta(sigmoid(b), shape1 = 2, shape2 = 4)\n",
        "\n",
        "  # Alpha value (as in Python code)\n",
        "  alpha <- 4\n",
        "\n",
        "  # IMPORTANT: tau is defined based on the *first two* covariates X[,1] and X[,2]\n",
        "  # regardless of p. This matches the original structure and ensures\n",
        "  # the ATE definition doesn't change wildly with p.\n",
        "  # If you wanted tau to also be an average over blocks, this part would need generalization too.\n",
        "  tau <- (X[, 1] + X[, 2]) / (2 * alpha)\n",
        "\n",
        "  w <- rbinom(n, size = 1, prob = e)\n",
        "\n",
        "  y <- b + (w - 0.5) * tau + sigma * rnorm(n, mean = 0, sd = 1)\n",
        "\n",
        "  # Calculate Average Treatment Effect 'ate'\n",
        "  ate <- mean(tau)\n",
        "\n",
        "  # Return results as a named list\n",
        "  return(list(\n",
        "    y = y,\n",
        "    X = X,\n",
        "    w = w,\n",
        "    tau = tau,\n",
        "    b = b,\n",
        "    e = e,\n",
        "    ate = ate\n",
        "  ))\n",
        "}"
      ]
    },
    {
      "cell_type": "code",
      "execution_count": 2,
      "id": "57d9105a",
      "metadata": {
        "vscode": {
          "languageId": "r"
        },
        "colab": {
          "base_uri": "https://localhost:8080/"
        },
        "id": "57d9105a",
        "outputId": "100937a4-36bc-47aa-e5ea-7b9cb6028756"
      },
      "outputs": [
        {
          "output_type": "stream",
          "name": "stderr",
          "text": [
            "Installing package into ‘/usr/local/lib/R/site-library’\n",
            "(as ‘lib’ is unspecified)\n",
            "\n",
            "also installing the dependency ‘BH’\n",
            "\n",
            "\n"
          ]
        }
      ],
      "source": [
        "install.packages(\"stochtree\")"
      ]
    },
    {
      "cell_type": "code",
      "execution_count": 3,
      "id": "6466842d",
      "metadata": {
        "vscode": {
          "languageId": "r"
        },
        "colab": {
          "base_uri": "https://localhost:8080/"
        },
        "id": "6466842d",
        "outputId": "42c737f5-5aea-4821-8888-4d0f41d96b03"
      },
      "outputs": [
        {
          "output_type": "stream",
          "name": "stderr",
          "text": [
            "Installing package into ‘/usr/local/lib/R/site-library’\n",
            "(as ‘lib’ is unspecified)\n",
            "\n"
          ]
        }
      ],
      "source": [
        "install.packages(\"dbarts\")"
      ]
    },
    {
      "cell_type": "code",
      "execution_count": 4,
      "id": "43f9871d",
      "metadata": {
        "vscode": {
          "languageId": "r"
        },
        "colab": {
          "base_uri": "https://localhost:8080/"
        },
        "id": "43f9871d",
        "outputId": "2b6ab0c8-f811-42f5-8115-e0532524be6e"
      },
      "outputs": [
        {
          "output_type": "stream",
          "name": "stderr",
          "text": [
            "\n",
            "Attaching package: ‘dbarts’\n",
            "\n",
            "\n",
            "The following object is masked from ‘package:stochtree’:\n",
            "\n",
            "    bart\n",
            "\n",
            "\n"
          ]
        }
      ],
      "source": [
        "library(stochtree)\n",
        "library(dbarts)"
      ]
    },
    {
      "cell_type": "code",
      "source": [
        "install.packages(\"openxlsx\")"
      ],
      "metadata": {
        "colab": {
          "base_uri": "https://localhost:8080/"
        },
        "id": "_6RGdOrrX1zY",
        "outputId": "1d388a28-9b05-408e-c62b-6e79ad254460"
      },
      "id": "_6RGdOrrX1zY",
      "execution_count": 5,
      "outputs": [
        {
          "output_type": "stream",
          "name": "stderr",
          "text": [
            "Installing package into ‘/usr/local/lib/R/site-library’\n",
            "(as ‘lib’ is unspecified)\n",
            "\n"
          ]
        }
      ]
    },
    {
      "cell_type": "code",
      "execution_count": 6,
      "id": "a71923b2",
      "metadata": {
        "vscode": {
          "languageId": "r"
        },
        "id": "a71923b2",
        "colab": {
          "base_uri": "https://localhost:8080/"
        },
        "outputId": "474be727-4fef-4b9c-d885-972ef24a5562"
      },
      "outputs": [
        {
          "output_type": "stream",
          "name": "stdout",
          "text": [
            "ATE RMSE Mean: 0.099978, ATE RMSE SD: 0.069626, \n",
            "ATE MAE Mean: 0.099978, ATE MAE SD: 0.069626, \n",
            "ATE MAPE Mean: 0.799181, ATE MAPE SD: 0.560051, \n",
            "ATE Cover: 0.950000, \n",
            "ATE Length Mean: 0.457910, ATE Length SD: 0.073436, \n",
            "CATE RMSE Mean: 0.116594, CATE RMSE SD: 0.061496, \n",
            "CATE MAE Mean: 0.106462, CATE MAE SD: 0.063149, \n",
            "CATE MAPE Mean: 1.062698, CATE MAPE SD: 0.805087, \n",
            "CATE Cover Mean: 0.976320, CATE Cover SD: 0.103119, \n",
            "CATE Length Mean: 0.584056, CATE Length SD: 0.089776 \n",
            "Pi(X) RMSE Mean: 0.049027, Pi(X) RMSE SD: 0.003546, \n",
            "Pi(X) MAE Mean: 0.042793, Pi(X) MAE SD: 0.003300, \n",
            "ATE RMSE Mean: 0.092449, ATE RMSE SD: 0.055550, \n",
            "ATE MAE Mean: 0.092449, ATE MAE SD: 0.055550, \n",
            "ATE MAPE Mean: 0.740140, ATE MAPE SD: 0.446414, \n",
            "ATE Cover: 0.980000, \n",
            "ATE Length Mean: 0.448012, ATE Length SD: 0.086795, \n",
            "CATE RMSE Mean: 0.109344, CATE RMSE SD: 0.047529, \n",
            "CATE MAE Mean: 0.098530, CATE MAE SD: 0.049207, \n",
            "CATE MAPE Mean: 0.940469, CATE MAPE SD: 0.554694, \n",
            "CATE Cover Mean: 0.983720, CATE Cover SD: 0.045848, \n",
            "CATE Length Mean: 0.574054, CATE Length SD: 0.093649 \n",
            "Pi(X) RMSE Mean: 0.050610, Pi(X) RMSE SD: 0.003092, \n",
            "Pi(X) MAE Mean: 0.044731, Pi(X) MAE SD: 0.003734, \n"
          ]
        }
      ],
      "source": [
        "num_covariates_list <- c(50,100)\n",
        "\n",
        "for (j in num_covariates_list) {\n",
        "number_experiments <- 100\n",
        "number_of_points <- 250\n",
        "num_gfr <- 40\n",
        "num_burnin <- 0\n",
        "num_mcmc <- 1000\n",
        "num_covariates <- j\n",
        "\n",
        "data <- simulate_data_mode5_generalized(n = number_of_points, p = num_covariates, sigma = 0.5)\n",
        "num_samples <- length(data$y)\n",
        "\n",
        "ATE_RMSE <-numeric(number_experiments)\n",
        "ATE_MAE <-numeric(number_experiments)\n",
        "ATE_MAPE <-numeric(number_experiments)\n",
        "ATE_len <-numeric(number_experiments)\n",
        "ATE_cover <-numeric(number_experiments)\n",
        "\n",
        "CATE_values <- matrix(nrow = num_samples, ncol = number_experiments)\n",
        "CATE_RMSE <- numeric(number_experiments)\n",
        "CATE_MAE <-numeric(number_experiments)\n",
        "CATE_MAPE <-numeric(number_experiments)\n",
        "CATE_len <-numeric(number_experiments)\n",
        "CATE_cover <-numeric(number_experiments)\n",
        "\n",
        "pi_RMSE <- numeric(number_experiments)\n",
        "pi_MAE <-numeric(number_experiments)\n",
        "\n",
        "library(progress)\n",
        "\n",
        "# Initialize progress bar\n",
        "pb <- progress_bar$new(\n",
        "  format = \"  [:bar] :percent :elapsedfull\",\n",
        "  total = number_experiments, clear = FALSE, width = 60\n",
        ")\n",
        "\n",
        "for (i in 1:number_experiments) {\n",
        "\n",
        "pb$tick() # Increment the progress bar\n",
        "\n",
        "set.seed(i)\n",
        "data <- simulate_data_mode5_generalized(n = number_of_points, p = num_covariates, sigma = 0.5)\n",
        "Y <- data$y\n",
        "X <- data$X\n",
        "D <- data$w\n",
        "tau <- data$tau\n",
        "ate <- data$ate\n",
        "\n",
        "dbfit <- bart(X,D,X,verbose=F)\n",
        "pi_hats <- pnorm(colMeans(dbfit$yhat.test))\n",
        "\n",
        "pi_RMSE[i] <- sqrt(mean((pi_hats - data$e)^2))\n",
        "pi_MAE[i] <- mean(abs(pi_hats - data$e))\n",
        "\n",
        "dbfit <- bcf(\n",
        "    X_train = X, Z_train = D, y_train = Y, propensity_train = pi_hats, num_gfr = num_gfr, num_burnin = num_burnin, num_mcmc = num_mcmc)\n",
        "\n",
        "sample_inds <- (num_gfr + num_burnin + 1):num_mcmc\n",
        "\n",
        "CATE_hat_simulations <- dbfit$tau_hat_train[,sample_inds]\n",
        "CATE_hat <- rowMeans(CATE_hat_simulations)\n",
        "\n",
        "# Calculate the 2.5th and 97.5th percentiles for each datapoint across simulations\n",
        "lower_bounds <- apply(CATE_hat_simulations, 1, function(x) quantile(x, probs = 0.025))\n",
        "upper_bounds <- apply(CATE_hat_simulations, 1, function(x) quantile(x, probs = 0.975))\n",
        "\n",
        "CATE_len[i] <- mean(abs(upper_bounds-lower_bounds))\n",
        "\n",
        "CATE_RMSE[i] <- sqrt(mean((tau - CATE_hat)^2))\n",
        "CATE_MAE[i] <- mean(abs(tau - CATE_hat))\n",
        "CATE_MAPE[i] <- mean(abs(tau - CATE_hat)/abs(tau))\n",
        "\n",
        "\n",
        "cover_vector <- (tau >= lower_bounds) & (tau <= upper_bounds)\n",
        "number_covered <- sum(cover_vector)\n",
        "\n",
        "CATE_cover[i]<- number_covered / length(tau)\n",
        "CATE_values[, i] = CATE_hat\n",
        "ATE_hat <- mean(CATE_hat)\n",
        "\n",
        "ATE_RMSE[i] <- sqrt(mean((ate - ATE_hat)^2))\n",
        "ATE_MAE[i] <- mean(abs(ate - ATE_hat))\n",
        "ATE_MAPE[i] <- mean(abs(ate - ATE_hat)/abs(ate))\n",
        "\n",
        "ATE_hat_simulations <- colMeans(CATE_hat_simulations)\n",
        "\n",
        "ATE_lower_bound <- quantile(ATE_hat_simulations, probs = 0.025)\n",
        "ATE_upper_bound <- quantile(ATE_hat_simulations, probs = 0.975)\n",
        "ATE_CI <- c(ATE_lower_bound, ATE_upper_bound)\n",
        "ATE_cover[i] <- ifelse(mean(tau) >= ATE_CI[1] && mean(tau) <= ATE_CI[2], 1, 0)\n",
        "ATE_len[i] <- abs(ATE_lower_bound- ATE_upper_bound)\n",
        "\n",
        "}\n",
        "\n",
        "cat(sprintf(\"ATE RMSE Mean: %f, ATE RMSE SD: %f, \", mean(ATE_RMSE), sd(ATE_RMSE)))\n",
        "cat(\"\\n\")\n",
        "cat(sprintf(\"ATE MAE Mean: %f, ATE MAE SD: %f, \", mean(ATE_MAE), sd(ATE_MAE)))\n",
        "cat(\"\\n\")\n",
        "cat(sprintf(\"ATE MAPE Mean: %f, ATE MAPE SD: %f, \", mean(ATE_MAPE), sd(ATE_MAPE)))\n",
        "cat(\"\\n\")\n",
        "cat(sprintf(\"ATE Cover: %f, \", sum(ATE_cover)/length(ATE_cover)))\n",
        "cat(\"\\n\")\n",
        "cat(sprintf(\"ATE Length Mean: %f, ATE Length SD: %f, \", mean(ATE_len), sd(ATE_len)))\n",
        "cat(\"\\n\")\n",
        "cat(sprintf(\"CATE RMSE Mean: %f, CATE RMSE SD: %f, \", mean(CATE_RMSE), sd(CATE_RMSE)))\n",
        "cat(\"\\n\")\n",
        "cat(sprintf(\"CATE MAE Mean: %f, CATE MAE SD: %f, \", mean(CATE_MAE), sd(CATE_MAE)))\n",
        "cat(\"\\n\")\n",
        "cat(sprintf(\"CATE MAPE Mean: %f, CATE MAPE SD: %f, \", mean(CATE_MAPE), sd(CATE_MAPE)))\n",
        "cat(\"\\n\")\n",
        "cat(sprintf(\"CATE Cover Mean: %f, CATE Cover SD: %f, \", mean(CATE_cover), sd(CATE_cover)))\n",
        "cat(\"\\n\")\n",
        "cat(sprintf(\"CATE Length Mean: %f, CATE Length SD: %f \", mean(CATE_len), sd(CATE_len)))\n",
        "cat(\"\\n\")\n",
        "cat(sprintf(\"Pi(X) RMSE Mean: %f, Pi(X) RMSE SD: %f, \", mean(pi_RMSE), sd(pi_RMSE)))\n",
        "cat(\"\\n\")\n",
        "cat(sprintf(\"Pi(X) MAE Mean: %f, Pi(X) MAE SD: %f, \", mean(pi_MAE), sd(pi_MAE)))\n",
        "cat(\"\\n\")\n",
        "\n",
        "# Creating a dataframe\n",
        "df <- data.frame(\n",
        "  CATE_RMSE = CATE_RMSE,\n",
        "  CATE_MAE = CATE_MAE,\n",
        "  CATE_MAPE = CATE_MAPE,\n",
        "  CATE_cover = CATE_cover,\n",
        "  CATE_len = CATE_len,\n",
        "  ATE_RMSE = ATE_RMSE,\n",
        "  ATE_MAE = ATE_MAE,\n",
        "  ATE_MAPE = ATE_MAPE,\n",
        "  ATE_cover = ATE_cover,\n",
        "  ATE_len = ATE_len,\n",
        "  pi_RMSE = pi_RMSE,\n",
        "  pi_MAE = pi_MAE\n",
        ")\n",
        "\n",
        "library(openxlsx)\n",
        "\n",
        "file_path <- paste0(\"BCF(pi_hat)\", \"_num_covariates_\", j,\".xlsx\")\n",
        "write.xlsx(df, file_path, rowNames = FALSE)\n",
        "\n",
        "}"
      ]
    },
    {
      "cell_type": "code",
      "source": [],
      "metadata": {
        "id": "SCZ7wz-uKOMU"
      },
      "id": "SCZ7wz-uKOMU",
      "execution_count": 7,
      "outputs": []
    }
  ],
  "metadata": {
    "kernelspec": {
      "display_name": "R",
      "language": "R",
      "name": "ir"
    },
    "language_info": {
      "codemirror_mode": "r",
      "file_extension": ".r",
      "mimetype": "text/x-r-source",
      "name": "R",
      "pygments_lexer": "r",
      "version": "4.3.2"
    },
    "colab": {
      "provenance": []
    }
  },
  "nbformat": 4,
  "nbformat_minor": 5
}