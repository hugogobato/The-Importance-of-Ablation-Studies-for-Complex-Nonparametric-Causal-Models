{
 "cells": [
  {
   "cell_type": "code",
   "execution_count": 7,
   "id": "1be16b50",
   "metadata": {
    "vscode": {
     "languageId": "r"
    }
   },
   "outputs": [],
   "source": [
    "# Sigmoid function (equivalent to Python's numpy version)\n",
    "sigmoid <- function(x) {\n",
    "  return(1 / (1 + exp(-x)))\n",
    "}\n",
    "\n",
    "# Generalized function to simulate data\n",
    "simulate_data_mode5_generalized <- function(n = 1000, p = 5, sigma = 1.0) {\n",
    "  \n",
    "  # Check for minimum number of covariates and if p is a multiple of 5\n",
    "  if (p < 5) {\n",
    "    stop(\"Number of covariates (p) should be at least 5.\")\n",
    "  }\n",
    "  if (p %% 5 != 0) {\n",
    "    stop(\"Number of covariates (p) must be a multiple of 5 for this generalization.\")\n",
    "  }\n",
    "  \n",
    "  # Generate covariates\n",
    "  X <- matrix(runif(n * p), nrow = n, ncol = p)\n",
    "  \n",
    "  # Calculate expected outcome (baseline) 'b'\n",
    "  # It will be the sum of contributions from each block of 5 covariates,\n",
    "  # divided by the number of blocks to keep the average magnitude similar.\n",
    "  \n",
    "  num_blocks <- p / 5\n",
    "  b_sum_contributions <- numeric(n) # Initialize a vector of zeros of length n\n",
    "  \n",
    "  for (k_block in 0:(num_blocks - 1)) {\n",
    "    # Define the column indices for the current block\n",
    "    # R is 1-indexed, so we add 1 to 0-indexed block calculations\n",
    "    col_offset <- k_block * 5\n",
    "    \n",
    "    # Indices within X for the current block's terms\n",
    "    # Relative to the start of the block, they are 1, 2, 3, 4, 5\n",
    "    # Absolute column indices in X:\n",
    "    idx_for_min1 <- col_offset + 1\n",
    "    idx_for_min2 <- col_offset + 2\n",
    "    idx_for_sq   <- col_offset + 3\n",
    "    idx_for_sin  <- col_offset + 4\n",
    "    idx_for_lin  <- col_offset + 5\n",
    "    \n",
    "    current_block_contribution <- (\n",
    "      sin(pi * X[, idx_for_sin]) \n",
    "      + 2 * (X[, idx_for_sq] - 0.5)^2 \n",
    "      + apply(X[, c(idx_for_min1, idx_for_min2), drop = FALSE], 1, min) \n",
    "      + 0.5 * X[, idx_for_lin]\n",
    "    )\n",
    "    b_sum_contributions <- b_sum_contributions + current_block_contribution\n",
    "  }\n",
    "  \n",
    "  # Average the contributions\n",
    "  b <- b_sum_contributions / num_blocks\n",
    "  \n",
    "  # Calculate propensity score 'e'\n",
    "  e <- 0.05 + 0.9 * pbeta(sigmoid(b), shape1 = 2, shape2 = 4)\n",
    "  \n",
    "  # Alpha value (as in Python code)\n",
    "  alpha <- 4\n",
    "  \n",
    "  # IMPORTANT: tau is defined based on the *first two* covariates X[,1] and X[,2]\n",
    "  # regardless of p. This matches the original structure and ensures\n",
    "  # the ATE definition doesn't change wildly with p.\n",
    "  # If you wanted tau to also be an average over blocks, this part would need generalization too.\n",
    "  tau <- (X[, 1] + X[, 2]) / (2 * alpha) \n",
    "  \n",
    "  w <- rbinom(n, size = 1, prob = e)\n",
    "\n",
    "  y <- b + (w - 0.5) * tau + sigma * rnorm(n, mean = 0, sd = 1)\n",
    "  \n",
    "  # Calculate Average Treatment Effect 'ate'\n",
    "  ate <- mean(tau)\n",
    "  \n",
    "  # Return results as a named list\n",
    "  return(list(\n",
    "    y = y,\n",
    "    X = X,\n",
    "    w = w,\n",
    "    tau = tau,\n",
    "    b = b,\n",
    "    e = e,\n",
    "    ate = ate\n",
    "  ))\n",
    "}"
   ]
  },
  {
   "cell_type": "code",
   "execution_count": null,
   "id": "55c08ef5",
   "metadata": {
    "vscode": {
     "languageId": "r"
    }
   },
   "outputs": [],
   "source": [
    "install.packages(\"stochtree\")"
   ]
  },
  {
   "cell_type": "code",
   "execution_count": null,
   "id": "681fa256",
   "metadata": {
    "vscode": {
     "languageId": "r"
    }
   },
   "outputs": [],
   "source": [
    "install.packages(\"dbarts\")"
   ]
  },
  {
   "cell_type": "code",
   "execution_count": 2,
   "id": "43f9871d",
   "metadata": {
    "vscode": {
     "languageId": "r"
    }
   },
   "outputs": [
    {
     "name": "stderr",
     "output_type": "stream",
     "text": [
      "\n",
      "Attaching package: 'dbarts'\n",
      "\n",
      "\n",
      "The following object is masked from 'package:stochtree':\n",
      "\n",
      "    bart\n",
      "\n",
      "\n"
     ]
    }
   ],
   "source": [
    "library(stochtree)\n",
    "library(dbarts)"
   ]
  },
  {
   "cell_type": "code",
   "execution_count": 3,
   "id": "f78d13da",
   "metadata": {
    "vscode": {
     "languageId": "r"
    }
   },
   "outputs": [],
   "source": [
    "number_experiments <- 2\n",
    "number_of_points <- 250\n",
    "num_gfr <- 40\n",
    "num_burnin <- 0\n",
    "num_mcmc <- 1000\n",
    "num_covariates <- 10\n",
    "\n",
    "data <- simulate_data_mode5_generalized(n = number_of_points, p = num_covariates, sigma = 0.5)\n",
    "num_samples <- length(data$y)\n",
    "\n",
    "ATE_RMSE <-numeric(number_experiments)\n",
    "ATE_MAE <-numeric(number_experiments)\n",
    "ATE_MAPE <-numeric(number_experiments)\n",
    "ATE_len <-numeric(number_experiments)\n",
    "ATE_cover <-numeric(number_experiments)\n",
    "\n",
    "CATE_values <- matrix(nrow = num_samples, ncol = number_experiments)\n",
    "CATE_RMSE <- numeric(number_experiments)\n",
    "CATE_MAE <-numeric(number_experiments)\n",
    "CATE_MAPE <-numeric(number_experiments)\n",
    "CATE_len <-numeric(number_experiments)\n",
    "CATE_cover <-numeric(number_experiments)\n",
    "\n",
    "pi_RMSE <- numeric(number_experiments)\n",
    "pi_MAE <-numeric(number_experiments)"
   ]
  },
  {
   "cell_type": "code",
   "execution_count": 5,
   "id": "a71923b2",
   "metadata": {
    "vscode": {
     "languageId": "r"
    }
   },
   "outputs": [
    {
     "name": "stdout",
     "output_type": "stream",
     "text": [
      "ATE RMSE Mean: 0.028981, ATE RMSE SD: 0.033853, \n",
      "ATE MAE Mean: 0.028981, ATE MAE SD: 0.033853, \n",
      "ATE MAPE Mean: 0.234564, ATE MAPE SD: 0.274162, \n",
      "ATE Cover: 1.000000, \n",
      "ATE Length Mean: 0.439823, ATE Length SD: 0.027478, \n",
      "CATE RMSE Mean: 0.060985, CATE RMSE SD: 0.017453, \n",
      "CATE MAE Mean: 0.049936, CATE MAE SD: 0.014946, \n",
      "CATE MAPE Mean: 0.472564, CATE MAPE SD: 0.016983, \n",
      "CATE Cover Mean: 1.000000, CATE Cover SD: 0.000000, \n",
      "CATE Length Mean: 0.610190, CATE Length SD: 0.121536 \n",
      "Pi(X) RMSE Mean: 0.440778, Pi(X) RMSE SD: 0.000866, \n",
      "Pi(X) MAE Mean: 0.440696, Pi(X) MAE SD: 0.000876, \n"
     ]
    }
   ],
   "source": [
    "library(progress)\n",
    "\n",
    "# Initialize progress bar\n",
    "pb <- progress_bar$new(\n",
    "  format = \"  [:bar] :percent :elapsedfull\",\n",
    "  total = number_experiments, clear = FALSE, width = 60\n",
    ")\n",
    "\n",
    "for (i in 1:number_experiments) {\n",
    "\n",
    "pb$tick() # Increment the progress bar\n",
    "\n",
    "set.seed(i)\n",
    "data <- simulate_data_mode5_generalized(n = number_of_points, p = num_covariates, sigma = 0.5)\n",
    "Y <- data$y\n",
    "X <- data$X\n",
    "D <- data$w\n",
    "tau <- data$tau\n",
    "ate <- data$ate\n",
    "\n",
    "pi_hats <- rep(0.5, number_of_points)\n",
    "\n",
    "pi_RMSE[i] <- sqrt(mean((pi_hats - data$e)^2))\n",
    "pi_MAE[i] <- mean(abs(pi_hats - data$e))\n",
    "\n",
    "dbfit <- bcf(\n",
    "    X_train = X, Z_train = D, y_train = Y, pi_train = pi_hats, num_gfr = num_gfr, num_burnin = num_burnin, num_mcmc = num_mcmc)\n",
    "\n",
    "sample_inds <- (num_gfr + num_burnin + 1):num_mcmc\n",
    "\n",
    "CATE_hat_simulations <- dbfit$tau_hat_train[,sample_inds]\n",
    "CATE_hat <- rowMeans(CATE_hat_simulations)\n",
    "\n",
    "# Calculate the 2.5th and 97.5th percentiles for each datapoint across simulations\n",
    "lower_bounds <- apply(CATE_hat_simulations, 1, function(x) quantile(x, probs = 0.025))\n",
    "upper_bounds <- apply(CATE_hat_simulations, 1, function(x) quantile(x, probs = 0.975))\n",
    "\n",
    "CATE_len[i] <- mean(abs(upper_bounds-lower_bounds))\n",
    "\n",
    "CATE_RMSE[i] <- sqrt(mean((tau - CATE_hat)^2))\n",
    "CATE_MAE[i] <- mean(abs(tau - CATE_hat))\n",
    "CATE_MAPE[i] <- mean(abs(tau - CATE_hat)/abs(tau))\n",
    "\n",
    "\n",
    "cover_vector <- (tau >= lower_bounds) & (tau <= upper_bounds)\n",
    "number_covered <- sum(cover_vector)\n",
    "\n",
    "CATE_cover[i]<- number_covered / length(tau)\n",
    "CATE_values[, i] = CATE_hat\n",
    "ATE_hat <- mean(CATE_hat)\n",
    "\n",
    "ATE_RMSE[i] <- sqrt(mean((ate - ATE_hat)^2))\n",
    "ATE_MAE[i] <- mean(abs(ate - ATE_hat))\n",
    "ATE_MAPE[i] <- mean(abs(ate - ATE_hat)/abs(ate))\n",
    "\n",
    "ATE_hat_simulations <- colMeans(CATE_hat_simulations)\n",
    "\n",
    "ATE_lower_bound <- quantile(ATE_hat_simulations, probs = 0.025)\n",
    "ATE_upper_bound <- quantile(ATE_hat_simulations, probs = 0.975)\n",
    "ATE_CI <- c(ATE_lower_bound, ATE_upper_bound)\n",
    "ATE_cover[i] <- ifelse(mean(tau) >= ATE_CI[1] && mean(tau) <= ATE_CI[2], 1, 0)\n",
    "ATE_len[i] <- abs(ATE_lower_bound- ATE_upper_bound)\n",
    "\n",
    "}\n",
    "\n",
    "cat(sprintf(\"ATE RMSE Mean: %f, ATE RMSE SD: %f, \", mean(ATE_RMSE), sd(ATE_RMSE)))\n",
    "cat(\"\\n\")\n",
    "cat(sprintf(\"ATE MAE Mean: %f, ATE MAE SD: %f, \", mean(ATE_MAE), sd(ATE_MAE)))\n",
    "cat(\"\\n\")\n",
    "cat(sprintf(\"ATE MAPE Mean: %f, ATE MAPE SD: %f, \", mean(ATE_MAPE), sd(ATE_MAPE)))\n",
    "cat(\"\\n\")\n",
    "cat(sprintf(\"ATE Cover: %f, \", sum(ATE_cover)/length(ATE_cover)))\n",
    "cat(\"\\n\")\n",
    "cat(sprintf(\"ATE Length Mean: %f, ATE Length SD: %f, \", mean(ATE_len), sd(ATE_len)))\n",
    "cat(\"\\n\")\n",
    "cat(sprintf(\"CATE RMSE Mean: %f, CATE RMSE SD: %f, \", mean(CATE_RMSE), sd(CATE_RMSE)))\n",
    "cat(\"\\n\")\n",
    "cat(sprintf(\"CATE MAE Mean: %f, CATE MAE SD: %f, \", mean(CATE_MAE), sd(CATE_MAE)))\n",
    "cat(\"\\n\")\n",
    "cat(sprintf(\"CATE MAPE Mean: %f, CATE MAPE SD: %f, \", mean(CATE_MAPE), sd(CATE_MAPE)))\n",
    "cat(\"\\n\")\n",
    "cat(sprintf(\"CATE Cover Mean: %f, CATE Cover SD: %f, \", mean(CATE_cover), sd(CATE_cover)))\n",
    "cat(\"\\n\")\n",
    "cat(sprintf(\"CATE Length Mean: %f, CATE Length SD: %f \", mean(CATE_len), sd(CATE_len)))\n",
    "cat(\"\\n\")\n",
    "cat(sprintf(\"Pi(X) RMSE Mean: %f, Pi(X) RMSE SD: %f, \", mean(pi_RMSE), sd(pi_RMSE)))\n",
    "cat(\"\\n\")\n",
    "cat(sprintf(\"Pi(X) MAE Mean: %f, Pi(X) MAE SD: %f, \", mean(pi_MAE), sd(pi_MAE)))\n",
    "cat(\"\\n\")"
   ]
  },
  {
   "cell_type": "code",
   "execution_count": null,
   "id": "501218e9",
   "metadata": {
    "vscode": {
     "languageId": "r"
    }
   },
   "outputs": [],
   "source": [
    "# Creating a dataframe\n",
    "df <- data.frame(\n",
    "  CATE_RMSE = CATE_RMSE,\n",
    "  CATE_MAE = CATE_MAE,\n",
    "  CATE_MAPE = CATE_MAPE,\n",
    "  CATE_cover = CATE_cover,\n",
    "  CATE_len = CATE_len,\n",
    "  ATE_RMSE = ATE_RMSE,\n",
    "  ATE_MAE = ATE_MAE,\n",
    "  ATE_MAPE = ATE_MAPE,\n",
    "  ATE_cover = ATE_cover,\n",
    "  ATE_len = ATE_len,\n",
    "  pi_RMSE = pi_RMSE,\n",
    "  pi_MAE = pi_MAE\n",
    ")\n",
    "\n",
    "library(openxlsx)\n",
    "\n",
    "file_path <- paste0(\"BCF(no_pi_hat)\", \"_N\", number_of_points,\".xlsx\")\n",
    "write.xlsx(df, file_path, rowNames = FALSE)\n",
    "\n",
    "# Create a new workbook\n",
    "wb <- createWorkbook()\n",
    "\n",
    "# Add sheets with matrices\n",
    "addWorksheet(wb, \"CATE_values\")\n",
    "writeData(wb, \"CATE_values\", CATE_values)\n",
    "\n",
    "# Save the workbook as an Excel file\n",
    "saveWorkbook(wb, paste0(\"BCF(no_pi_hat)_CATE_values\", \"_N\", number_of_points,\".xlsx\"), overwrite = TRUE)"
   ]
  }
 ],
 "metadata": {
  "kernelspec": {
   "display_name": "R",
   "language": "R",
   "name": "ir"
  },
  "language_info": {
   "codemirror_mode": "r",
   "file_extension": ".r",
   "mimetype": "text/x-r-source",
   "name": "R",
   "pygments_lexer": "r",
   "version": "4.3.2"
  }
 },
 "nbformat": 4,
 "nbformat_minor": 5
}
