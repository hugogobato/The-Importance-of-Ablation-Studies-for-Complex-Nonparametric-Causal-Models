{
  "cells": [
    {
      "cell_type": "code",
      "execution_count": 1,
      "id": "1be16b50",
      "metadata": {
        "vscode": {
          "languageId": "r"
        },
        "id": "1be16b50"
      },
      "outputs": [],
      "source": [
        "# Sigmoid function (equivalent to Python's numpy version)\n",
        "sigmoid <- function(x) {\n",
        "  return(1 / (1 + exp(-x)))\n",
        "}\n",
        "\n",
        "# Function to simulate data specifically for mode = 5\n",
        "# This directly implements the logic from Python's\n",
        "# `simulate_extreme_propensity_difficult_baseline`\n",
        "simulate_data_mode5 <- function(n = 1000, p = 5, sigma = 1.0) {\n",
        "\n",
        "  # Check for minimum number of covariates (as implied by Python's MIN_COVARIATES)\n",
        "  if (p < 5) {\n",
        "    stop(\"Number of covariates (p) should be at least 5.\")\n",
        "  }\n",
        "\n",
        "  # Generate covariates\n",
        "  # Python: X = np.random.uniform(size=n * p).reshape((n, -1))\n",
        "  X <- matrix(runif(n * p), nrow = n, ncol = p)\n",
        "\n",
        "  # Calculate expected outcome (baseline) 'b'\n",
        "  # Python: b = (\n",
        "  #             np.sin(np.pi * X[:, 3])  # 4th column in Python\n",
        "  #             + 2 * (X[:, 2] - 0.5) ** 2 # 3rd column in Python\n",
        "  #             + np.min(X[:, :2], axis=1) # 1st and 2nd columns in Python, row-wise min\n",
        "  #             + 0.5 * X[:, 4] # 5th column in Python\n",
        "  #           )\n",
        "  # R is 1-indexed\n",
        "  b <- (\n",
        "    sin(pi * X[, 4]) # Corresponds to Python's X[:, 3]\n",
        "    + 2 * (X[, 3] - 0.5)^2 # Corresponds to Python's X[:, 2]\n",
        "    + apply(X[, 1:2, drop = FALSE], 1, min) # Row-wise min of first two columns (Python's X[:, :2])\n",
        "    + 0.5 * X[, 5] # Corresponds to Python's X[:, 4]\n",
        "  )\n",
        "\n",
        "  # Calculate propensity score 'e'\n",
        "  # Python: e = 0.05 + 0.9 * beta.cdf(sigmoid(b), 2, 4)\n",
        "  # scipy.stats.beta.cdf(x, a, b) is pbeta(x, shape1=a, shape2=b) in R\n",
        "  e <- 0.05 + 0.9 * pbeta(sigmoid(b), shape1 = 2, shape2 = 4)\n",
        "\n",
        "  # Alpha value (as in Python code)\n",
        "  alpha <- 4\n",
        "\n",
        "  # Calculate individual treatment effect 'tau'\n",
        "  # Python: tau = (X[:, 0] + X[:, 1]) / (2*alpha) # 1st and 2nd columns in Python\n",
        "  tau <- (X[, 1] + X[, 2]) / (2 * alpha) # Corresponds to Python's X[:, 0] and X[:, 1]\n",
        "\n",
        "  # Simulate treatment assignment 'w'\n",
        "  # Python: w = np.random.binomial(1, e, size=n)\n",
        "  # In R, rbinom(n, size, prob): n is number of obs, size is number of trials for each.\n",
        "  w <- rbinom(n, size = 1, prob = e)\n",
        "\n",
        "  # Simulate outcome variable 'y'\n",
        "  # Python: y = b + (w - 0.5) * tau + sigma * np.random.normal(size=n)\n",
        "  # np.random.normal(size=n) gives N(0,1) by default.\n",
        "  y <- b + (w - 0.5) * tau + sigma * rnorm(n, mean = 0, sd = 1)\n",
        "\n",
        "  # Calculate Average Treatment Effect 'ate'\n",
        "  # Python: ate = np.mean(tau)\n",
        "  ate <- mean(tau)\n",
        "\n",
        "  # Return results as a named list (R equivalent of Python's tuple)\n",
        "  return(list(\n",
        "    y = y,\n",
        "    X = X,\n",
        "    w = w,\n",
        "    tau = tau,\n",
        "    b = b,\n",
        "    e = e,\n",
        "    ate = ate\n",
        "  ))\n",
        "}\n"
      ]
    },
    {
      "cell_type": "code",
      "execution_count": 2,
      "id": "57d9105a",
      "metadata": {
        "vscode": {
          "languageId": "r"
        },
        "colab": {
          "base_uri": "https://localhost:8080/"
        },
        "id": "57d9105a",
        "outputId": "985bcfae-7b24-4949-b022-258ddfc88cfa"
      },
      "outputs": [
        {
          "output_type": "stream",
          "name": "stderr",
          "text": [
            "Installing package into ‘/usr/local/lib/R/site-library’\n",
            "(as ‘lib’ is unspecified)\n",
            "\n",
            "also installing the dependency ‘BH’\n",
            "\n",
            "\n"
          ]
        }
      ],
      "source": [
        "install.packages(\"stochtree\")"
      ]
    },
    {
      "cell_type": "code",
      "execution_count": 3,
      "id": "6466842d",
      "metadata": {
        "vscode": {
          "languageId": "r"
        },
        "colab": {
          "base_uri": "https://localhost:8080/"
        },
        "id": "6466842d",
        "outputId": "fc1b57eb-cd73-4875-8547-5dbe87a91224"
      },
      "outputs": [
        {
          "output_type": "stream",
          "name": "stderr",
          "text": [
            "Installing package into ‘/usr/local/lib/R/site-library’\n",
            "(as ‘lib’ is unspecified)\n",
            "\n"
          ]
        }
      ],
      "source": [
        "install.packages(\"dbarts\")"
      ]
    },
    {
      "cell_type": "code",
      "source": [
        "install.packages(\"openxlsx\")"
      ],
      "metadata": {
        "colab": {
          "base_uri": "https://localhost:8080/"
        },
        "id": "4jh5xLTheAkK",
        "outputId": "fd8eb5a9-cb0e-48db-980c-ea572c8f7a25"
      },
      "id": "4jh5xLTheAkK",
      "execution_count": 4,
      "outputs": [
        {
          "output_type": "stream",
          "name": "stderr",
          "text": [
            "Installing package into ‘/usr/local/lib/R/site-library’\n",
            "(as ‘lib’ is unspecified)\n",
            "\n"
          ]
        }
      ]
    },
    {
      "cell_type": "code",
      "execution_count": 5,
      "id": "43f9871d",
      "metadata": {
        "vscode": {
          "languageId": "r"
        },
        "colab": {
          "base_uri": "https://localhost:8080/"
        },
        "id": "43f9871d",
        "outputId": "9d55ad75-7671-4f61-9892-c9cb472fa113"
      },
      "outputs": [
        {
          "output_type": "stream",
          "name": "stderr",
          "text": [
            "\n",
            "Attaching package: ‘dbarts’\n",
            "\n",
            "\n",
            "The following object is masked from ‘package:stochtree’:\n",
            "\n",
            "    bart\n",
            "\n",
            "\n"
          ]
        }
      ],
      "source": [
        "library(stochtree)\n",
        "library(dbarts)"
      ]
    },
    {
      "cell_type": "code",
      "execution_count": 6,
      "id": "a71923b2",
      "metadata": {
        "vscode": {
          "languageId": "r"
        },
        "colab": {
          "base_uri": "https://localhost:8080/"
        },
        "id": "a71923b2",
        "outputId": "a838e0cb-b5d9-4f9b-f190-a39c37a890cc"
      },
      "outputs": [
        {
          "output_type": "stream",
          "name": "stderr",
          "text": [
            "Warning message in summary.lm(lm(data@y ~ data@x, weights = data@weights, offset = data@offset)):\n",
            "“essentially perfect fit: summary may be unreliable”\n"
          ]
        },
        {
          "output_type": "stream",
          "name": "stdout",
          "text": [
            "ATE RMSE Mean: 0.117804, ATE RMSE SD: 0.081366, \n",
            "ATE MAE Mean: 0.117804, ATE MAE SD: 0.081366, \n",
            "ATE MAPE Mean: 0.941076, ATE MAPE SD: 0.649706, \n",
            "ATE Cover: 1.000000, \n",
            "ATE Length Mean: 0.798111, ATE Length SD: 0.150663, \n",
            "CATE RMSE Mean: 0.132731, CATE RMSE SD: 0.073866, \n",
            "CATE MAE Mean: 0.123251, CATE MAE SD: 0.076252, \n",
            "CATE MAPE Mean: 1.291461, CATE MAPE SD: 0.870513, \n",
            "CATE Cover Mean: 0.999600, CATE Cover SD: 0.004000, \n",
            "CATE Length Mean: 0.969859, CATE Length SD: 0.164912 \n",
            "Pi(X) RMSE Mean: 0.053759, Pi(X) RMSE SD: 0.012431, \n",
            "Pi(X) MAE Mean: 0.043936, Pi(X) MAE SD: 0.009134, \n",
            "ATE RMSE Mean: 0.082929, ATE RMSE SD: 0.049385, \n",
            "ATE MAE Mean: 0.082929, ATE MAE SD: 0.049385, \n",
            "ATE MAPE Mean: 0.662904, ATE MAPE SD: 0.393993, \n",
            "ATE Cover: 0.920000, \n",
            "ATE Length Mean: 0.353344, ATE Length SD: 0.044680, \n",
            "CATE RMSE Mean: 0.104264, CATE RMSE SD: 0.040916, \n",
            "CATE MAE Mean: 0.092404, CATE MAE SD: 0.041200, \n",
            "CATE MAPE Mean: 0.895273, CATE MAPE SD: 0.412088, \n",
            "CATE Cover Mean: 0.973720, CATE Cover SD: 0.093563, \n",
            "CATE Length Mean: 0.539865, CATE Length SD: 0.096354 \n",
            "Pi(X) RMSE Mean: 0.039666, Pi(X) RMSE SD: 0.005544, \n",
            "Pi(X) MAE Mean: 0.031974, Pi(X) MAE SD: 0.004220, \n"
          ]
        }
      ],
      "source": [
        "number_of_points_list <- c(100,500)\n",
        "\n",
        "for (j in number_of_points_list) {\n",
        "number_experiments <- 100\n",
        "number_of_points <- j\n",
        "num_gfr <- 40\n",
        "num_burnin <- 0\n",
        "num_mcmc <- 1000\n",
        "\n",
        "data <- simulate_data_mode5(n = number_of_points, p = 5, sigma = 0.5)\n",
        "num_samples <- length(data$y)\n",
        "\n",
        "ATE_RMSE <-numeric(number_experiments)\n",
        "ATE_MAE <-numeric(number_experiments)\n",
        "ATE_MAPE <-numeric(number_experiments)\n",
        "ATE_len <-numeric(number_experiments)\n",
        "ATE_cover <-numeric(number_experiments)\n",
        "\n",
        "CATE_values <- matrix(nrow = num_samples, ncol = number_experiments)\n",
        "CATE_RMSE <- numeric(number_experiments)\n",
        "CATE_MAE <-numeric(number_experiments)\n",
        "CATE_MAPE <-numeric(number_experiments)\n",
        "CATE_len <-numeric(number_experiments)\n",
        "CATE_cover <-numeric(number_experiments)\n",
        "\n",
        "pi_RMSE <- numeric(number_experiments)\n",
        "pi_MAE <-numeric(number_experiments)\n",
        "\n",
        "library(progress)\n",
        "\n",
        "# Initialize progress bar\n",
        "pb <- progress_bar$new(\n",
        "  format = \"  [:bar] :percent :elapsedfull\",\n",
        "  total = number_experiments, clear = FALSE, width = 60\n",
        ")\n",
        "\n",
        "for (i in 1:number_experiments) {\n",
        "\n",
        "pb$tick() # Increment the progress bar\n",
        "\n",
        "set.seed(i)\n",
        "data <- simulate_data_mode5(n = number_of_points, p = 5, sigma = 0.5)\n",
        "Y <- data$y\n",
        "X <- data$X\n",
        "D <- data$w\n",
        "tau <- data$tau\n",
        "ate <- data$ate\n",
        "\n",
        "dbfit <- bart(X,D,X,verbose=F)\n",
        "pi_hats <- pnorm(colMeans(dbfit$yhat.test))\n",
        "\n",
        "pi_RMSE[i] <- sqrt(mean((pi_hats - data$e)^2))\n",
        "pi_MAE[i] <- mean(abs(pi_hats - data$e))\n",
        "\n",
        "dbfit <- bcf(\n",
        "    X_train = X, Z_train = D, y_train = Y, propensity_train = pi_hats, num_gfr = num_gfr, num_burnin = num_burnin, num_mcmc = num_mcmc)\n",
        "\n",
        "sample_inds <- (num_gfr + num_burnin + 1):num_mcmc\n",
        "\n",
        "CATE_hat_simulations <- dbfit$tau_hat_train[,sample_inds]\n",
        "CATE_hat <- rowMeans(CATE_hat_simulations)\n",
        "\n",
        "# Calculate the 2.5th and 97.5th percentiles for each datapoint across simulations\n",
        "lower_bounds <- apply(CATE_hat_simulations, 1, function(x) quantile(x, probs = 0.025))\n",
        "upper_bounds <- apply(CATE_hat_simulations, 1, function(x) quantile(x, probs = 0.975))\n",
        "\n",
        "CATE_len[i] <- mean(abs(upper_bounds-lower_bounds))\n",
        "\n",
        "CATE_RMSE[i] <- sqrt(mean((tau - CATE_hat)^2))\n",
        "CATE_MAE[i] <- mean(abs(tau - CATE_hat))\n",
        "CATE_MAPE[i] <- mean(abs(tau - CATE_hat)/abs(tau))\n",
        "\n",
        "\n",
        "cover_vector <- (tau >= lower_bounds) & (tau <= upper_bounds)\n",
        "number_covered <- sum(cover_vector)\n",
        "\n",
        "CATE_cover[i]<- number_covered / length(tau)\n",
        "CATE_values[, i] = CATE_hat\n",
        "ATE_hat <- mean(CATE_hat)\n",
        "\n",
        "ATE_RMSE[i] <- sqrt(mean((ate - ATE_hat)^2))\n",
        "ATE_MAE[i] <- mean(abs(ate - ATE_hat))\n",
        "ATE_MAPE[i] <- mean(abs(ate - ATE_hat)/abs(ate))\n",
        "\n",
        "ATE_hat_simulations <- colMeans(CATE_hat_simulations)\n",
        "\n",
        "ATE_lower_bound <- quantile(ATE_hat_simulations, probs = 0.025)\n",
        "ATE_upper_bound <- quantile(ATE_hat_simulations, probs = 0.975)\n",
        "ATE_CI <- c(ATE_lower_bound, ATE_upper_bound)\n",
        "ATE_cover[i] <- ifelse(mean(tau) >= ATE_CI[1] && mean(tau) <= ATE_CI[2], 1, 0)\n",
        "ATE_len[i] <- abs(ATE_lower_bound- ATE_upper_bound)\n",
        "\n",
        "}\n",
        "\n",
        "cat(sprintf(\"ATE RMSE Mean: %f, ATE RMSE SD: %f, \", mean(ATE_RMSE), sd(ATE_RMSE)))\n",
        "cat(\"\\n\")\n",
        "cat(sprintf(\"ATE MAE Mean: %f, ATE MAE SD: %f, \", mean(ATE_MAE), sd(ATE_MAE)))\n",
        "cat(\"\\n\")\n",
        "cat(sprintf(\"ATE MAPE Mean: %f, ATE MAPE SD: %f, \", mean(ATE_MAPE), sd(ATE_MAPE)))\n",
        "cat(\"\\n\")\n",
        "cat(sprintf(\"ATE Cover: %f, \", sum(ATE_cover)/length(ATE_cover)))\n",
        "cat(\"\\n\")\n",
        "cat(sprintf(\"ATE Length Mean: %f, ATE Length SD: %f, \", mean(ATE_len), sd(ATE_len)))\n",
        "cat(\"\\n\")\n",
        "cat(sprintf(\"CATE RMSE Mean: %f, CATE RMSE SD: %f, \", mean(CATE_RMSE), sd(CATE_RMSE)))\n",
        "cat(\"\\n\")\n",
        "cat(sprintf(\"CATE MAE Mean: %f, CATE MAE SD: %f, \", mean(CATE_MAE), sd(CATE_MAE)))\n",
        "cat(\"\\n\")\n",
        "cat(sprintf(\"CATE MAPE Mean: %f, CATE MAPE SD: %f, \", mean(CATE_MAPE), sd(CATE_MAPE)))\n",
        "cat(\"\\n\")\n",
        "cat(sprintf(\"CATE Cover Mean: %f, CATE Cover SD: %f, \", mean(CATE_cover), sd(CATE_cover)))\n",
        "cat(\"\\n\")\n",
        "cat(sprintf(\"CATE Length Mean: %f, CATE Length SD: %f \", mean(CATE_len), sd(CATE_len)))\n",
        "cat(\"\\n\")\n",
        "cat(sprintf(\"Pi(X) RMSE Mean: %f, Pi(X) RMSE SD: %f, \", mean(pi_RMSE), sd(pi_RMSE)))\n",
        "cat(\"\\n\")\n",
        "cat(sprintf(\"Pi(X) MAE Mean: %f, Pi(X) MAE SD: %f, \", mean(pi_MAE), sd(pi_MAE)))\n",
        "cat(\"\\n\")\n",
        "\n",
        "# Creating a dataframe\n",
        "df <- data.frame(\n",
        "  CATE_RMSE = CATE_RMSE,\n",
        "  CATE_MAE = CATE_MAE,\n",
        "  CATE_MAPE = CATE_MAPE,\n",
        "  CATE_cover = CATE_cover,\n",
        "  CATE_len = CATE_len,\n",
        "  ATE_RMSE = ATE_RMSE,\n",
        "  ATE_MAE = ATE_MAE,\n",
        "  ATE_MAPE = ATE_MAPE,\n",
        "  ATE_cover = ATE_cover,\n",
        "  ATE_len = ATE_len,\n",
        "  pi_RMSE = pi_RMSE,\n",
        "  pi_MAE = pi_MAE\n",
        ")\n",
        "\n",
        "library(openxlsx)\n",
        "\n",
        "file_path <- paste0(\"BCF(pi_hat)\", \"_N\", j,\".xlsx\")\n",
        "write.xlsx(df, file_path, rowNames = FALSE)\n",
        "\n",
        "}"
      ]
    },
    {
      "cell_type": "code",
      "source": [],
      "metadata": {
        "id": "1JKgeKRweErS"
      },
      "id": "1JKgeKRweErS",
      "execution_count": null,
      "outputs": []
    }
  ],
  "metadata": {
    "kernelspec": {
      "display_name": "R",
      "language": "R",
      "name": "ir"
    },
    "language_info": {
      "codemirror_mode": "r",
      "file_extension": ".r",
      "mimetype": "text/x-r-source",
      "name": "R",
      "pygments_lexer": "r",
      "version": "4.3.2"
    },
    "colab": {
      "provenance": []
    }
  },
  "nbformat": 4,
  "nbformat_minor": 5
}