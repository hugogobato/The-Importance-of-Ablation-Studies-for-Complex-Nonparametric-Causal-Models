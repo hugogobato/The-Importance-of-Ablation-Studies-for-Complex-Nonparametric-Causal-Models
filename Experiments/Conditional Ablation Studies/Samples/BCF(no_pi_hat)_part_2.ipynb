{
  "cells": [
    {
      "cell_type": "code",
      "execution_count": null,
      "id": "1be16b50",
      "metadata": {
        "vscode": {
          "languageId": "r"
        },
        "id": "1be16b50"
      },
      "outputs": [],
      "source": [
        "# Sigmoid function (equivalent to Python's numpy version)\n",
        "sigmoid <- function(x) {\n",
        "  return(1 / (1 + exp(-x)))\n",
        "}\n",
        "\n",
        "# Function to simulate data specifically for mode = 5\n",
        "# This directly implements the logic from Python's\n",
        "# `simulate_extreme_propensity_difficult_baseline`\n",
        "simulate_data_mode5 <- function(n = 1000, p = 5, sigma = 1.0) {\n",
        "\n",
        "  # Check for minimum number of covariates (as implied by Python's MIN_COVARIATES)\n",
        "  if (p < 5) {\n",
        "    stop(\"Number of covariates (p) should be at least 5.\")\n",
        "  }\n",
        "\n",
        "  # Generate covariates\n",
        "  # Python: X = np.random.uniform(size=n * p).reshape((n, -1))\n",
        "  X <- matrix(runif(n * p), nrow = n, ncol = p)\n",
        "\n",
        "  # Calculate expected outcome (baseline) 'b'\n",
        "  # Python: b = (\n",
        "  #             np.sin(np.pi * X[:, 3])  # 4th column in Python\n",
        "  #             + 2 * (X[:, 2] - 0.5) ** 2 # 3rd column in Python\n",
        "  #             + np.min(X[:, :2], axis=1) # 1st and 2nd columns in Python, row-wise min\n",
        "  #             + 0.5 * X[:, 4] # 5th column in Python\n",
        "  #           )\n",
        "  # R is 1-indexed\n",
        "  b <- (\n",
        "    sin(pi * X[, 4]) # Corresponds to Python's X[:, 3]\n",
        "    + 2 * (X[, 3] - 0.5)^2 # Corresponds to Python's X[:, 2]\n",
        "    + apply(X[, 1:2, drop = FALSE], 1, min) # Row-wise min of first two columns (Python's X[:, :2])\n",
        "    + 0.5 * X[, 5] # Corresponds to Python's X[:, 4]\n",
        "  )\n",
        "\n",
        "  # Calculate propensity score 'e'\n",
        "  # Python: e = 0.05 + 0.9 * beta.cdf(sigmoid(b), 2, 4)\n",
        "  # scipy.stats.beta.cdf(x, a, b) is pbeta(x, shape1=a, shape2=b) in R\n",
        "  e <- 0.05 + 0.9 * pbeta(sigmoid(b), shape1 = 2, shape2 = 4)\n",
        "\n",
        "  # Alpha value (as in Python code)\n",
        "  alpha <- 4\n",
        "\n",
        "  # Calculate individual treatment effect 'tau'\n",
        "  # Python: tau = (X[:, 0] + X[:, 1]) / (2*alpha) # 1st and 2nd columns in Python\n",
        "  tau <- (X[, 1] + X[, 2]) / (2 * alpha) # Corresponds to Python's X[:, 0] and X[:, 1]\n",
        "\n",
        "  # Simulate treatment assignment 'w'\n",
        "  # Python: w = np.random.binomial(1, e, size=n)\n",
        "  # In R, rbinom(n, size, prob): n is number of obs, size is number of trials for each.\n",
        "  w <- rbinom(n, size = 1, prob = e)\n",
        "\n",
        "  # Simulate outcome variable 'y'\n",
        "  # Python: y = b + (w - 0.5) * tau + sigma * np.random.normal(size=n)\n",
        "  # np.random.normal(size=n) gives N(0,1) by default.\n",
        "  y <- b + (w - 0.5) * tau + sigma * rnorm(n, mean = 0, sd = 1)\n",
        "\n",
        "  # Calculate Average Treatment Effect 'ate'\n",
        "  # Python: ate = np.mean(tau)\n",
        "  ate <- mean(tau)\n",
        "\n",
        "  # Return results as a named list (R equivalent of Python's tuple)\n",
        "  return(list(\n",
        "    y = y,\n",
        "    X = X,\n",
        "    w = w,\n",
        "    tau = tau,\n",
        "    b = b,\n",
        "    e = e,\n",
        "    ate = ate\n",
        "  ))\n",
        "}\n"
      ]
    },
    {
      "cell_type": "code",
      "execution_count": null,
      "id": "57d9105a",
      "metadata": {
        "vscode": {
          "languageId": "r"
        },
        "colab": {
          "base_uri": "https://localhost:8080/"
        },
        "id": "57d9105a",
        "outputId": "7a3e11ef-7e08-4269-a700-ecc14c93738c"
      },
      "outputs": [
        {
          "output_type": "stream",
          "name": "stderr",
          "text": [
            "Installing package into ‘/usr/local/lib/R/site-library’\n",
            "(as ‘lib’ is unspecified)\n",
            "\n",
            "also installing the dependency ‘BH’\n",
            "\n",
            "\n"
          ]
        }
      ],
      "source": [
        "install.packages(\"stochtree\")"
      ]
    },
    {
      "cell_type": "code",
      "execution_count": null,
      "id": "6466842d",
      "metadata": {
        "vscode": {
          "languageId": "r"
        },
        "colab": {
          "base_uri": "https://localhost:8080/"
        },
        "id": "6466842d",
        "outputId": "603a2fcc-7dcb-4f8a-e6c9-b88057bc3579"
      },
      "outputs": [
        {
          "output_type": "stream",
          "name": "stderr",
          "text": [
            "Installing package into ‘/usr/local/lib/R/site-library’\n",
            "(as ‘lib’ is unspecified)\n",
            "\n"
          ]
        }
      ],
      "source": [
        "install.packages(\"dbarts\")"
      ]
    },
    {
      "cell_type": "code",
      "execution_count": null,
      "id": "43f9871d",
      "metadata": {
        "vscode": {
          "languageId": "r"
        },
        "colab": {
          "base_uri": "https://localhost:8080/"
        },
        "id": "43f9871d",
        "outputId": "07035387-47ed-4159-daee-2459f02044ff"
      },
      "outputs": [
        {
          "output_type": "stream",
          "name": "stderr",
          "text": [
            "\n",
            "Attaching package: ‘dbarts’\n",
            "\n",
            "\n",
            "The following object is masked from ‘package:stochtree’:\n",
            "\n",
            "    bart\n",
            "\n",
            "\n"
          ]
        }
      ],
      "source": [
        "library(stochtree)\n",
        "library(dbarts)"
      ]
    },
    {
      "cell_type": "code",
      "source": [
        "install.packages(\"openxlsx\")"
      ],
      "metadata": {
        "colab": {
          "base_uri": "https://localhost:8080/"
        },
        "id": "Lhc0yWHRXvQZ",
        "outputId": "8eee1533-80a4-4bff-97de-d3f231584e63"
      },
      "id": "Lhc0yWHRXvQZ",
      "execution_count": null,
      "outputs": [
        {
          "output_type": "stream",
          "name": "stderr",
          "text": [
            "Installing package into ‘/usr/local/lib/R/site-library’\n",
            "(as ‘lib’ is unspecified)\n",
            "\n"
          ]
        }
      ]
    },
    {
      "cell_type": "code",
      "execution_count": null,
      "id": "a71923b2",
      "metadata": {
        "vscode": {
          "languageId": "r"
        },
        "id": "a71923b2",
        "colab": {
          "base_uri": "https://localhost:8080/"
        },
        "outputId": "21141d7f-8443-4f1d-8ddd-5601faef199b"
      },
      "outputs": [
        {
          "output_type": "stream",
          "name": "stdout",
          "text": [
            "ATE RMSE Mean: 0.058264, ATE RMSE SD: 0.037924, \n",
            "ATE MAE Mean: 0.058264, ATE MAE SD: 0.037924, \n",
            "ATE MAPE Mean: 0.466874, ATE MAPE SD: 0.304467, \n",
            "ATE Cover: 0.910000, \n",
            "ATE Length Mean: 0.247578, ATE Length SD: 0.027518, \n",
            "CATE RMSE Mean: 0.083741, CATE RMSE SD: 0.030412, \n",
            "CATE MAE Mean: 0.071537, CATE MAE SD: 0.029540, \n",
            "CATE MAPE Mean: 0.724182, CATE MAPE SD: 0.289867, \n",
            "CATE Cover Mean: 0.968860, CATE Cover SD: 0.084118, \n",
            "CATE Length Mean: 0.427366, CATE Length SD: 0.083431 \n",
            "Pi(X) RMSE Mean: 0.438212, Pi(X) RMSE SD: 0.000456, \n",
            "Pi(X) MAE Mean: 0.437904, Pi(X) MAE SD: 0.000478, \n",
            "ATE RMSE Mean: 0.016959, ATE RMSE SD: 0.012290, \n",
            "ATE MAE Mean: 0.016959, ATE MAE SD: 0.012290, \n",
            "ATE MAPE Mean: 0.135517, ATE MAPE SD: 0.098150, \n",
            "ATE Cover: 0.960000, \n",
            "ATE Length Mean: 0.082528, ATE Length SD: 0.004018, \n",
            "CATE RMSE Mean: 0.046889, CATE RMSE SD: 0.010880, \n",
            "CATE MAE Mean: 0.038094, CATE MAE SD: 0.008850, \n",
            "CATE MAPE Mean: 0.453859, CATE MAPE SD: 0.115441, \n",
            "CATE Cover Mean: 0.968308, CATE Cover SD: 0.043538, \n",
            "CATE Length Mean: 0.214958, CATE Length SD: 0.033546 \n",
            "Pi(X) RMSE Mean: 0.438251, Pi(X) RMSE SD: 0.000176, \n",
            "Pi(X) MAE Mean: 0.437948, Pi(X) MAE SD: 0.000185, \n"
          ]
        }
      ],
      "source": [
        "number_of_points_list <- c(1000,10000)\n",
        "\n",
        "for (j in number_of_points_list) {\n",
        "number_experiments <- 100\n",
        "number_of_points <- j\n",
        "num_gfr <- 40\n",
        "num_burnin <- 0\n",
        "num_mcmc <- 1000\n",
        "\n",
        "data <- simulate_data_mode5(n = number_of_points, p = 5, sigma = 0.5)\n",
        "num_samples <- length(data$y)\n",
        "\n",
        "ATE_RMSE <-numeric(number_experiments)\n",
        "ATE_MAE <-numeric(number_experiments)\n",
        "ATE_MAPE <-numeric(number_experiments)\n",
        "ATE_len <-numeric(number_experiments)\n",
        "ATE_cover <-numeric(number_experiments)\n",
        "\n",
        "CATE_values <- matrix(nrow = num_samples, ncol = number_experiments)\n",
        "CATE_RMSE <- numeric(number_experiments)\n",
        "CATE_MAE <-numeric(number_experiments)\n",
        "CATE_MAPE <-numeric(number_experiments)\n",
        "CATE_len <-numeric(number_experiments)\n",
        "CATE_cover <-numeric(number_experiments)\n",
        "\n",
        "pi_RMSE <- numeric(number_experiments)\n",
        "pi_MAE <-numeric(number_experiments)\n",
        "\n",
        "library(progress)\n",
        "\n",
        "# Initialize progress bar\n",
        "pb <- progress_bar$new(\n",
        "  format = \"  [:bar] :percent :elapsedfull\",\n",
        "  total = number_experiments, clear = FALSE, width = 60\n",
        ")\n",
        "\n",
        "for (i in 1:number_experiments) {\n",
        "\n",
        "pb$tick() # Increment the progress bar\n",
        "\n",
        "set.seed(i)\n",
        "data <- simulate_data_mode5(n = number_of_points, p = 5, sigma = 0.5)\n",
        "Y <- data$y\n",
        "X <- data$X\n",
        "D <- data$w\n",
        "tau <- data$tau\n",
        "ate <- data$ate\n",
        "\n",
        "pi_hats <- rep(0.5, number_of_points)\n",
        "\n",
        "pi_RMSE[i] <- sqrt(mean((pi_hats - data$e)^2))\n",
        "pi_MAE[i] <- mean(abs(pi_hats - data$e))\n",
        "\n",
        "dbfit <- bcf(\n",
        "    X_train = X, Z_train = D, y_train = Y, propensity_train = pi_hats, num_gfr = num_gfr, num_burnin = num_burnin, num_mcmc = num_mcmc)\n",
        "\n",
        "sample_inds <- (num_gfr + num_burnin + 1):num_mcmc\n",
        "\n",
        "CATE_hat_simulations <- dbfit$tau_hat_train[,sample_inds]\n",
        "CATE_hat <- rowMeans(CATE_hat_simulations)\n",
        "\n",
        "# Calculate the 2.5th and 97.5th percentiles for each datapoint across simulations\n",
        "lower_bounds <- apply(CATE_hat_simulations, 1, function(x) quantile(x, probs = 0.025))\n",
        "upper_bounds <- apply(CATE_hat_simulations, 1, function(x) quantile(x, probs = 0.975))\n",
        "\n",
        "CATE_len[i] <- mean(abs(upper_bounds-lower_bounds))\n",
        "\n",
        "CATE_RMSE[i] <- sqrt(mean((tau - CATE_hat)^2))\n",
        "CATE_MAE[i] <- mean(abs(tau - CATE_hat))\n",
        "CATE_MAPE[i] <- mean(abs(tau - CATE_hat)/abs(tau))\n",
        "\n",
        "\n",
        "cover_vector <- (tau >= lower_bounds) & (tau <= upper_bounds)\n",
        "number_covered <- sum(cover_vector)\n",
        "\n",
        "CATE_cover[i]<- number_covered / length(tau)\n",
        "CATE_values[, i] = CATE_hat\n",
        "ATE_hat <- mean(CATE_hat)\n",
        "\n",
        "ATE_RMSE[i] <- sqrt(mean((ate - ATE_hat)^2))\n",
        "ATE_MAE[i] <- mean(abs(ate - ATE_hat))\n",
        "ATE_MAPE[i] <- mean(abs(ate - ATE_hat)/abs(ate))\n",
        "\n",
        "ATE_hat_simulations <- colMeans(CATE_hat_simulations)\n",
        "\n",
        "ATE_lower_bound <- quantile(ATE_hat_simulations, probs = 0.025)\n",
        "ATE_upper_bound <- quantile(ATE_hat_simulations, probs = 0.975)\n",
        "ATE_CI <- c(ATE_lower_bound, ATE_upper_bound)\n",
        "ATE_cover[i] <- ifelse(mean(tau) >= ATE_CI[1] && mean(tau) <= ATE_CI[2], 1, 0)\n",
        "ATE_len[i] <- abs(ATE_lower_bound- ATE_upper_bound)\n",
        "\n",
        "}\n",
        "\n",
        "cat(sprintf(\"ATE RMSE Mean: %f, ATE RMSE SD: %f, \", mean(ATE_RMSE), sd(ATE_RMSE)))\n",
        "cat(\"\\n\")\n",
        "cat(sprintf(\"ATE MAE Mean: %f, ATE MAE SD: %f, \", mean(ATE_MAE), sd(ATE_MAE)))\n",
        "cat(\"\\n\")\n",
        "cat(sprintf(\"ATE MAPE Mean: %f, ATE MAPE SD: %f, \", mean(ATE_MAPE), sd(ATE_MAPE)))\n",
        "cat(\"\\n\")\n",
        "cat(sprintf(\"ATE Cover: %f, \", sum(ATE_cover)/length(ATE_cover)))\n",
        "cat(\"\\n\")\n",
        "cat(sprintf(\"ATE Length Mean: %f, ATE Length SD: %f, \", mean(ATE_len), sd(ATE_len)))\n",
        "cat(\"\\n\")\n",
        "cat(sprintf(\"CATE RMSE Mean: %f, CATE RMSE SD: %f, \", mean(CATE_RMSE), sd(CATE_RMSE)))\n",
        "cat(\"\\n\")\n",
        "cat(sprintf(\"CATE MAE Mean: %f, CATE MAE SD: %f, \", mean(CATE_MAE), sd(CATE_MAE)))\n",
        "cat(\"\\n\")\n",
        "cat(sprintf(\"CATE MAPE Mean: %f, CATE MAPE SD: %f, \", mean(CATE_MAPE), sd(CATE_MAPE)))\n",
        "cat(\"\\n\")\n",
        "cat(sprintf(\"CATE Cover Mean: %f, CATE Cover SD: %f, \", mean(CATE_cover), sd(CATE_cover)))\n",
        "cat(\"\\n\")\n",
        "cat(sprintf(\"CATE Length Mean: %f, CATE Length SD: %f \", mean(CATE_len), sd(CATE_len)))\n",
        "cat(\"\\n\")\n",
        "cat(sprintf(\"Pi(X) RMSE Mean: %f, Pi(X) RMSE SD: %f, \", mean(pi_RMSE), sd(pi_RMSE)))\n",
        "cat(\"\\n\")\n",
        "cat(sprintf(\"Pi(X) MAE Mean: %f, Pi(X) MAE SD: %f, \", mean(pi_MAE), sd(pi_MAE)))\n",
        "cat(\"\\n\")\n",
        "\n",
        "# Creating a dataframe\n",
        "df <- data.frame(\n",
        "  CATE_RMSE = CATE_RMSE,\n",
        "  CATE_MAE = CATE_MAE,\n",
        "  CATE_MAPE = CATE_MAPE,\n",
        "  CATE_cover = CATE_cover,\n",
        "  CATE_len = CATE_len,\n",
        "  ATE_RMSE = ATE_RMSE,\n",
        "  ATE_MAE = ATE_MAE,\n",
        "  ATE_MAPE = ATE_MAPE,\n",
        "  ATE_cover = ATE_cover,\n",
        "  ATE_len = ATE_len,\n",
        "  pi_RMSE = pi_RMSE,\n",
        "  pi_MAE = pi_MAE\n",
        ")\n",
        "\n",
        "library(openxlsx)\n",
        "\n",
        "file_path <- paste0(\"BCF(no_pi_hat)\", \"_N\", j,\".xlsx\")\n",
        "write.xlsx(df, file_path, rowNames = FALSE)\n",
        "\n",
        "}"
      ]
    },
    {
      "cell_type": "code",
      "source": [],
      "metadata": {
        "id": "sqE1dRC8KSsR"
      },
      "id": "sqE1dRC8KSsR",
      "execution_count": null,
      "outputs": []
    }
  ],
  "metadata": {
    "kernelspec": {
      "display_name": "R",
      "language": "R",
      "name": "ir"
    },
    "language_info": {
      "codemirror_mode": "r",
      "file_extension": ".r",
      "mimetype": "text/x-r-source",
      "name": "R",
      "pygments_lexer": "r",
      "version": "4.3.2"
    },
    "colab": {
      "provenance": []
    }
  },
  "nbformat": 4,
  "nbformat_minor": 5
}