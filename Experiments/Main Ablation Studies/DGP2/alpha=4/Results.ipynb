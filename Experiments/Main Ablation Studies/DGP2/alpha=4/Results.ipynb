{
 "cells": [
  {
   "cell_type": "code",
   "execution_count": 1,
   "metadata": {
    "vscode": {
     "languageId": "r"
    }
   },
   "outputs": [
    {
     "name": "stderr",
     "output_type": "stream",
     "text": [
      "\n",
      "Anexando pacote: ‘dplyr’\n",
      "\n",
      "\n",
      "Os seguintes objetos são mascarados por ‘package:stats’:\n",
      "\n",
      "    filter, lag\n",
      "\n",
      "\n",
      "Os seguintes objetos são mascarados por ‘package:base’:\n",
      "\n",
      "    intersect, setdiff, setequal, union\n",
      "\n",
      "\n"
     ]
    }
   ],
   "source": [
    "library(readxl)\n",
    "library(dplyr)\n",
    "library(tidyr)\n"
   ]
  },
  {
   "cell_type": "markdown",
   "metadata": {},
   "source": [
    "# N=250"
   ]
  },
  {
   "cell_type": "code",
   "execution_count": 2,
   "metadata": {
    "vscode": {
     "languageId": "r"
    }
   },
   "outputs": [
    {
     "name": "stdout",
     "output_type": "stream",
     "text": [
      "Table with Mean +/- Standard Deviation:\n",
      "       Metric    BCF(no_pi_hat)       BCF(pi_hat)    BCF(pi_oracle)\n",
      "1   CATE_RMSE 0.1300 +/- 0.0827 0.1340 +/- 0.0897 0.1286 +/- 0.0811\n",
      "2    CATE_MAE 0.1187 +/- 0.0827 0.1220 +/- 0.0898 0.1172 +/- 0.0816\n",
      "3   CATE_MAPE 1.2984 +/- 0.9552 1.2904 +/- 1.0102 1.2538 +/- 0.9065\n",
      "4  CATE_cover 0.9982 +/- 0.0083 0.9968 +/- 0.0158 0.9969 +/- 0.0171\n",
      "5    CATE_len 0.9296 +/- 0.1422 0.9590 +/- 0.1430 0.9012 +/- 0.1321\n",
      "6    ATE_RMSE 0.1097 +/- 0.0883 0.1131 +/- 0.0957 0.1080 +/- 0.0889\n",
      "7     ATE_MAE 0.1097 +/- 0.0883 0.1131 +/- 0.0957 0.1080 +/- 0.0889\n",
      "8    ATE_MAPE 0.8772 +/- 0.6973 0.9043 +/- 0.7565 0.8646 +/- 0.7049\n",
      "9   ATE_cover 0.9500 +/- 0.2190 0.9700 +/- 0.1714 0.9700 +/- 0.1714\n",
      "10    ATE_len 0.6381 +/- 0.0775 0.6761 +/- 0.0882 0.6285 +/- 0.0767\n",
      "11    pi_RMSE 0.3665 +/- 0.0036 0.0787 +/- 0.0119 0.0000 +/- 0.0000\n",
      "12     pi_MAE 0.3618 +/- 0.0036 0.0616 +/- 0.0097 0.0000 +/- 0.0000\n",
      "\n",
      "Welch's t-test between BCF(no_pi_hat) and BCF(pi_hat):\n",
      "CATE_RMSE: t = -0.3240, df = 196.72, p-value = 0.7463\n",
      "The difference in CATE_RMSE between BCF(no_pi_hat) and BCF(pi_hat) is not statistically significant.\n",
      "CATE_MAE: t = -0.2692, df = 196.67, p-value = 0.7881\n",
      "The difference in CATE_MAE between BCF(no_pi_hat) and BCF(pi_hat) is not statistically significant.\n",
      "CATE_MAPE: t = 0.0577, df = 197.38, p-value = 0.9540\n",
      "The difference in CATE_MAPE between BCF(no_pi_hat) and BCF(pi_hat) is not statistically significant.\n",
      "CATE_cover: t = 0.8286, df = 150.26, p-value = 0.4086\n",
      "The difference in CATE_cover between BCF(no_pi_hat) and BCF(pi_hat) is not statistically significant.\n",
      "CATE_len: t = -1.4616, df = 197.99, p-value = 0.1454\n",
      "The difference in CATE_len between BCF(no_pi_hat) and BCF(pi_hat) is not statistically significant.\n",
      "ATE_RMSE: t = -0.2631, df = 196.74, p-value = 0.7927\n",
      "The difference in ATE_RMSE between BCF(no_pi_hat) and BCF(pi_hat) is not statistically significant.\n",
      "ATE_MAE: t = -0.2631, df = 196.74, p-value = 0.7927\n",
      "The difference in ATE_MAE between BCF(no_pi_hat) and BCF(pi_hat) is not statistically significant.\n",
      "ATE_MAPE: t = -0.2633, df = 196.70, p-value = 0.7926\n",
      "The difference in ATE_MAPE between BCF(no_pi_hat) and BCF(pi_hat) is not statistically significant.\n",
      "ATE_len: t = -3.2370, df = 194.76, p-value = 0.0014\n",
      "The difference in ATE_len between BCF(no_pi_hat) and BCF(pi_hat) is statistically significant.\n",
      "pi_RMSE: t = 232.4637, df = 116.65, p-value = 0.0000\n",
      "The difference in pi_RMSE between BCF(no_pi_hat) and BCF(pi_hat) is statistically significant.\n",
      "pi_MAE: t = 289.5391, df = 125.09, p-value = 0.0000\n",
      "The difference in pi_MAE between BCF(no_pi_hat) and BCF(pi_hat) is statistically significant.\n"
     ]
    }
   ],
   "source": [
    "file_names <- c(\"BCF(no_pi_hat)_N250.xlsx\", \"BCF_N250.xlsx\", \"BCF(pi_oracle)_N250.xlsx\")\n",
    "model_names <- c(\"BCF(no_pi_hat)\", \"BCF(pi_hat)\", \"BCF(pi_oracle)\")\n",
    "\n",
    "metrics <- c(\"CATE_RMSE\", \"CATE_MAE\", \"CATE_MAPE\", \"CATE_cover\", \"CATE_len\",\n",
    "             \"ATE_RMSE\", \"ATE_MAE\", \"ATE_MAPE\", \"ATE_cover\", \"ATE_len\", \"pi_RMSE\", \"pi_MAE\")\n",
    "\n",
    "\n",
    "# Function to read data and calculate summary statistics\n",
    "read_and_summarize <- function(file_name, model_name) {\n",
    "  df <- read_excel(file_name)\n",
    "  means <- df %>% summarise(across(all_of(metrics), mean)) %>%\n",
    "    pivot_longer(cols = everything(), names_to = \"metric\", values_to = \"mean\") %>%\n",
    "    mutate(model = model_name)\n",
    "  sds <- df %>% summarise(across(all_of(metrics), sd)) %>%\n",
    "    pivot_longer(cols = everything(), names_to = \"metric\", values_to = \"sd\") %>%\n",
    "    mutate(model = model_name)\n",
    "  return(list(means = means, sds = sds))\n",
    "}\n",
    "\n",
    "# Apply the function to each file\n",
    "summary_stats_list <- lapply(1:length(file_names), function(i) read_and_summarize(file_names[i], model_names[i]))\n",
    "\n",
    "# Combine means into a single data frame\n",
    "mean_df_long <- bind_rows(lapply(summary_stats_list, function(x) x$means))\n",
    "\n",
    "# Pivot the means data frame to the desired wide format\n",
    "mean_table <- mean_df_long %>%\n",
    "  pivot_wider(names_from = metric, values_from = mean) %>%\n",
    "  select(Model = model, all_of(metrics))\n",
    "\n",
    "# Combine standard deviations into a single data frame\n",
    "sd_df_long <- bind_rows(lapply(summary_stats_list, function(x) x$sds))\n",
    "\n",
    "# Pivot the standard deviations data frame to the desired wide format\n",
    "sd_table <- sd_df_long %>%\n",
    "  pivot_wider(names_from = metric, values_from = sd) %>%\n",
    "  select(Model = model, all_of(metrics))\n",
    "\n",
    "# Create a table with mean +/- standard deviation\n",
    "mean_sd_table <- data.frame(Metric = metrics)\n",
    "for (i in 1:length(model_names)) {\n",
    "  mean_values <- mean_table %>% filter(Model == model_names[i]) %>% select(-Model) %>% unlist()\n",
    "  sd_values <- sd_table %>% filter(Model == model_names[i]) %>% select(-Model) %>% unlist()\n",
    "  mean_sd_table[[model_names[i]]] <- paste0(sprintf(\"%.4f\", mean_values), \" +/- \", sprintf(\"%.4f\", sd_values))\n",
    "}\n",
    "\n",
    "# Print the tables\n",
    "cat(\"Table with Mean +/- Standard Deviation:\\n\")\n",
    "print(mean_sd_table)\n",
    "\n",
    "\n",
    "# Perform Welch's t-tests between BCF(no_pi_hat) and BCF(pi_hat)\n",
    "cat(\"\\nWelch's t-test between BCF(no_pi_hat) and BCF(pi_hat):\\n\")\n",
    "\n",
    "df_no_pi_hat <- read_excel(\"BCF(no_pi_hat)_N250.xlsx\")\n",
    "df_pi_hat <- read_excel(\"BCF_N250.xlsx\")\n",
    "\n",
    "metrics <- c(\"CATE_RMSE\", \"CATE_MAE\", \"CATE_MAPE\", \"CATE_cover\", \"CATE_len\",\n",
    "             \"ATE_RMSE\", \"ATE_MAE\", \"ATE_MAPE\", \"ATE_len\", \"pi_RMSE\", \"pi_MAE\")\n",
    "\n",
    "for (metric in metrics) {\n",
    "  test_result <- t.test(df_no_pi_hat[[metric]], df_pi_hat[[metric]], var.equal = FALSE)\n",
    "  cat(sprintf(\"%s: t = %.4f, df = %.2f, p-value = %.4f\\n\",\n",
    "              metric, test_result$statistic, test_result$parameter, test_result$p.value))\n",
    "  if (test_result$p.value < 0.05) {\n",
    "    cat(sprintf(\"The difference in %s between BCF(no_pi_hat) and BCF(pi_hat) is statistically significant.\\n\", metric))\n",
    "  } else {\n",
    "    cat(sprintf(\"The difference in %s between BCF(no_pi_hat) and BCF(pi_hat) is not statistically significant.\\n\", metric))\n",
    "  }\n",
    "}"
   ]
  }
 ],
 "metadata": {
  "kernelspec": {
   "display_name": "R",
   "language": "R",
   "name": "ir"
  },
  "language_info": {
   "codemirror_mode": "r",
   "file_extension": ".r",
   "mimetype": "text/x-r-source",
   "name": "R",
   "pygments_lexer": "r",
   "version": "4.4.3"
  }
 },
 "nbformat": 4,
 "nbformat_minor": 2
}
