{
 "cells": [
  {
   "cell_type": "code",
   "execution_count": 1,
   "metadata": {
    "vscode": {
     "languageId": "r"
    }
   },
   "outputs": [
    {
     "name": "stderr",
     "output_type": "stream",
     "text": [
      "\n",
      "Anexando pacote: ‘dplyr’\n",
      "\n",
      "\n",
      "Os seguintes objetos são mascarados por ‘package:stats’:\n",
      "\n",
      "    filter, lag\n",
      "\n",
      "\n",
      "Os seguintes objetos são mascarados por ‘package:base’:\n",
      "\n",
      "    intersect, setdiff, setequal, union\n",
      "\n",
      "\n"
     ]
    }
   ],
   "source": [
    "library(readxl)\n",
    "library(dplyr)\n",
    "library(tidyr)\n"
   ]
  },
  {
   "cell_type": "markdown",
   "metadata": {},
   "source": [
    "# N=250"
   ]
  },
  {
   "cell_type": "code",
   "execution_count": 2,
   "metadata": {
    "vscode": {
     "languageId": "r"
    }
   },
   "outputs": [
    {
     "name": "stdout",
     "output_type": "stream",
     "text": [
      "Table with Mean +/- Standard Deviation:\n",
      "       Metric    BCF(no_pi_hat)       BCF(pi_hat)    BCF(pi_oracle)\n",
      "1   CATE_RMSE 0.2617 +/- 0.0819 0.2820 +/- 0.0876 0.2725 +/- 0.0830\n",
      "2    CATE_MAE 0.2216 +/- 0.0783 0.2406 +/- 0.0847 0.2302 +/- 0.0796\n",
      "3   CATE_MAPE 0.6108 +/- 0.2315 0.6114 +/- 0.1852 0.6122 +/- 0.2140\n",
      "4  CATE_cover 0.9632 +/- 0.0820 0.9508 +/- 0.1002 0.9459 +/- 0.1124\n",
      "5    CATE_len 1.1507 +/- 0.1465 1.1648 +/- 0.1603 1.1146 +/- 0.1441\n",
      "6    ATE_RMSE 0.1671 +/- 0.1180 0.1943 +/- 0.1236 0.1758 +/- 0.1181\n",
      "7     ATE_MAE 0.1671 +/- 0.1180 0.1943 +/- 0.1236 0.1758 +/- 0.1181\n",
      "8    ATE_MAPE 0.3349 +/- 0.2364 0.3895 +/- 0.2479 0.3526 +/- 0.2372\n",
      "9   ATE_cover 0.9600 +/- 0.1969 0.9300 +/- 0.2564 0.9500 +/- 0.2190\n",
      "10    ATE_len 0.7550 +/- 0.0874 0.8004 +/- 0.0975 0.7465 +/- 0.0859\n",
      "11    pi_RMSE 0.3657 +/- 0.0034 0.0809 +/- 0.0116 0.0000 +/- 0.0000\n",
      "12     pi_MAE 0.3611 +/- 0.0035 0.0634 +/- 0.0094 0.0000 +/- 0.0000\n",
      "\n",
      "Welch's t-test between BCF(no_pi_hat) and BCF(pi_hat):\n",
      "CATE_RMSE: t = -1.6968, df = 197.11, p-value = 0.0913\n",
      "The difference in CATE_RMSE between BCF(no_pi_hat) and BCF(pi_hat) is not statistically significant.\n",
      "CATE_MAE: t = -1.6480, df = 196.82, p-value = 0.1009\n",
      "The difference in CATE_MAE between BCF(no_pi_hat) and BCF(pi_hat) is not statistically significant.\n",
      "CATE_MAPE: t = -0.0201, df = 188.90, p-value = 0.9839\n",
      "The difference in CATE_MAPE between BCF(no_pi_hat) and BCF(pi_hat) is not statistically significant.\n",
      "CATE_cover: t = 0.9606, df = 190.59, p-value = 0.3380\n",
      "The difference in CATE_cover between BCF(no_pi_hat) and BCF(pi_hat) is not statistically significant.\n",
      "CATE_len: t = -0.6477, df = 196.42, p-value = 0.5179\n",
      "The difference in CATE_len between BCF(no_pi_hat) and BCF(pi_hat) is not statistically significant.\n",
      "ATE_RMSE: t = -1.5904, df = 197.57, p-value = 0.1133\n",
      "The difference in ATE_RMSE between BCF(no_pi_hat) and BCF(pi_hat) is not statistically significant.\n",
      "ATE_MAE: t = -1.5904, df = 197.57, p-value = 0.1133\n",
      "The difference in ATE_MAE between BCF(no_pi_hat) and BCF(pi_hat) is not statistically significant.\n",
      "ATE_MAPE: t = -1.5947, df = 197.55, p-value = 0.1124\n",
      "The difference in ATE_MAPE between BCF(no_pi_hat) and BCF(pi_hat) is not statistically significant.\n",
      "ATE_len: t = -3.4725, df = 195.69, p-value = 0.0006\n",
      "The difference in ATE_len between BCF(no_pi_hat) and BCF(pi_hat) is statistically significant.\n",
      "pi_RMSE: t = 236.2059, df = 116.23, p-value = 0.0000\n",
      "The difference in pi_RMSE between BCF(no_pi_hat) and BCF(pi_hat) is statistically significant.\n",
      "pi_MAE: t = 296.8685, df = 125.59, p-value = 0.0000\n",
      "The difference in pi_MAE between BCF(no_pi_hat) and BCF(pi_hat) is statistically significant.\n"
     ]
    }
   ],
   "source": [
    "file_names <- c(\"BCF(no_pi_hat)_N250.xlsx\", \"BCF_N250.xlsx\", \"BCF(pi_oracle)_N250.xlsx\")\n",
    "model_names <- c(\"BCF(no_pi_hat)\", \"BCF(pi_hat)\", \"BCF(pi_oracle)\")\n",
    "\n",
    "metrics <- c(\"CATE_RMSE\", \"CATE_MAE\", \"CATE_MAPE\", \"CATE_cover\", \"CATE_len\",\n",
    "             \"ATE_RMSE\", \"ATE_MAE\", \"ATE_MAPE\", \"ATE_cover\", \"ATE_len\", \"pi_RMSE\", \"pi_MAE\")\n",
    "\n",
    "\n",
    "# Function to read data and calculate summary statistics\n",
    "read_and_summarize <- function(file_name, model_name) {\n",
    "  df <- read_excel(file_name)\n",
    "  means <- df %>% summarise(across(all_of(metrics), mean)) %>%\n",
    "    pivot_longer(cols = everything(), names_to = \"metric\", values_to = \"mean\") %>%\n",
    "    mutate(model = model_name)\n",
    "  sds <- df %>% summarise(across(all_of(metrics), sd)) %>%\n",
    "    pivot_longer(cols = everything(), names_to = \"metric\", values_to = \"sd\") %>%\n",
    "    mutate(model = model_name)\n",
    "  return(list(means = means, sds = sds))\n",
    "}\n",
    "\n",
    "# Apply the function to each file\n",
    "summary_stats_list <- lapply(1:length(file_names), function(i) read_and_summarize(file_names[i], model_names[i]))\n",
    "\n",
    "# Combine means into a single data frame\n",
    "mean_df_long <- bind_rows(lapply(summary_stats_list, function(x) x$means))\n",
    "\n",
    "# Pivot the means data frame to the desired wide format\n",
    "mean_table <- mean_df_long %>%\n",
    "  pivot_wider(names_from = metric, values_from = mean) %>%\n",
    "  select(Model = model, all_of(metrics))\n",
    "\n",
    "# Combine standard deviations into a single data frame\n",
    "sd_df_long <- bind_rows(lapply(summary_stats_list, function(x) x$sds))\n",
    "\n",
    "# Pivot the standard deviations data frame to the desired wide format\n",
    "sd_table <- sd_df_long %>%\n",
    "  pivot_wider(names_from = metric, values_from = sd) %>%\n",
    "  select(Model = model, all_of(metrics))\n",
    "\n",
    "# Create a table with mean +/- standard deviation\n",
    "mean_sd_table <- data.frame(Metric = metrics)\n",
    "for (i in 1:length(model_names)) {\n",
    "  mean_values <- mean_table %>% filter(Model == model_names[i]) %>% select(-Model) %>% unlist()\n",
    "  sd_values <- sd_table %>% filter(Model == model_names[i]) %>% select(-Model) %>% unlist()\n",
    "  mean_sd_table[[model_names[i]]] <- paste0(sprintf(\"%.4f\", mean_values), \" +/- \", sprintf(\"%.4f\", sd_values))\n",
    "}\n",
    "\n",
    "# Print the tables\n",
    "cat(\"Table with Mean +/- Standard Deviation:\\n\")\n",
    "print(mean_sd_table)\n",
    "\n",
    "\n",
    "# Perform Welch's t-tests between BCF(no_pi_hat) and BCF(pi_hat)\n",
    "cat(\"\\nWelch's t-test between BCF(no_pi_hat) and BCF(pi_hat):\\n\")\n",
    "\n",
    "df_no_pi_hat <- read_excel(\"BCF(no_pi_hat)_N250.xlsx\")\n",
    "df_pi_hat <- read_excel(\"BCF_N250.xlsx\")\n",
    "\n",
    "metrics <- c(\"CATE_RMSE\", \"CATE_MAE\", \"CATE_MAPE\", \"CATE_cover\", \"CATE_len\",\n",
    "             \"ATE_RMSE\", \"ATE_MAE\", \"ATE_MAPE\", \"ATE_len\", \"pi_RMSE\", \"pi_MAE\")\n",
    "\n",
    "for (metric in metrics) {\n",
    "  test_result <- t.test(df_no_pi_hat[[metric]], df_pi_hat[[metric]], var.equal = FALSE)\n",
    "  cat(sprintf(\"%s: t = %.4f, df = %.2f, p-value = %.4f\\n\",\n",
    "              metric, test_result$statistic, test_result$parameter, test_result$p.value))\n",
    "  if (test_result$p.value < 0.05) {\n",
    "    cat(sprintf(\"The difference in %s between BCF(no_pi_hat) and BCF(pi_hat) is statistically significant.\\n\", metric))\n",
    "  } else {\n",
    "    cat(sprintf(\"The difference in %s between BCF(no_pi_hat) and BCF(pi_hat) is not statistically significant.\\n\", metric))\n",
    "  }\n",
    "}"
   ]
  },
  {
   "cell_type": "code",
   "execution_count": null,
   "metadata": {
    "vscode": {
     "languageId": "r"
    }
   },
   "outputs": [],
   "source": []
  }
 ],
 "metadata": {
  "kernelspec": {
   "display_name": "R",
   "language": "R",
   "name": "ir"
  },
  "language_info": {
   "codemirror_mode": "r",
   "file_extension": ".r",
   "mimetype": "text/x-r-source",
   "name": "R",
   "pygments_lexer": "r",
   "version": "4.4.3"
  }
 },
 "nbformat": 4,
 "nbformat_minor": 2
}
