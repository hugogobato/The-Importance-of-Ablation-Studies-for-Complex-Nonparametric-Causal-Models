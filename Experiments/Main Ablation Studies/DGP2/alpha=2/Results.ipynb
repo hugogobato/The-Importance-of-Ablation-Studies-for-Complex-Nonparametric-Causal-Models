{
 "cells": [
  {
   "cell_type": "code",
   "execution_count": 1,
   "metadata": {
    "vscode": {
     "languageId": "r"
    }
   },
   "outputs": [
    {
     "name": "stderr",
     "output_type": "stream",
     "text": [
      "\n",
      "Anexando pacote: ‘dplyr’\n",
      "\n",
      "\n",
      "Os seguintes objetos são mascarados por ‘package:stats’:\n",
      "\n",
      "    filter, lag\n",
      "\n",
      "\n",
      "Os seguintes objetos são mascarados por ‘package:base’:\n",
      "\n",
      "    intersect, setdiff, setequal, union\n",
      "\n",
      "\n"
     ]
    }
   ],
   "source": [
    "library(readxl)\n",
    "library(dplyr)\n",
    "library(tidyr)\n"
   ]
  },
  {
   "cell_type": "markdown",
   "metadata": {},
   "source": [
    "# N=250"
   ]
  },
  {
   "cell_type": "code",
   "execution_count": 2,
   "metadata": {
    "vscode": {
     "languageId": "r"
    }
   },
   "outputs": [
    {
     "name": "stdout",
     "output_type": "stream",
     "text": [
      "Table with Mean +/- Standard Deviation:\n",
      "       Metric    BCF(no_pi_hat)       BCF(pi_hat)    BCF(pi_oracle)\n",
      "1   CATE_RMSE 0.1823 +/- 0.0750 0.1921 +/- 0.0799 0.1872 +/- 0.0750\n",
      "2    CATE_MAE 0.1611 +/- 0.0747 0.1712 +/- 0.0799 0.1654 +/- 0.0755\n",
      "3   CATE_MAPE 0.8298 +/- 0.4147 0.8289 +/- 0.3871 0.8294 +/- 0.3954\n",
      "4  CATE_cover 0.9820 +/- 0.0772 0.9738 +/- 0.0702 0.9732 +/- 0.0890\n",
      "5    CATE_len 0.9841 +/- 0.1592 0.9876 +/- 0.1554 0.9521 +/- 0.1405\n",
      "6    ATE_RMSE 0.1417 +/- 0.0930 0.1543 +/- 0.0967 0.1460 +/- 0.0943\n",
      "7     ATE_MAE 0.1417 +/- 0.0930 0.1543 +/- 0.0967 0.1460 +/- 0.0943\n",
      "8    ATE_MAPE 0.5694 +/- 0.3740 0.6196 +/- 0.3877 0.5867 +/- 0.3791\n",
      "9   ATE_cover 0.9400 +/- 0.2387 0.9200 +/- 0.2727 0.9400 +/- 0.2387\n",
      "10    ATE_len 0.6653 +/- 0.0916 0.6956 +/- 0.0838 0.6621 +/- 0.0792\n",
      "11    pi_RMSE 0.3658 +/- 0.0033 0.0792 +/- 0.0106 0.0000 +/- 0.0000\n",
      "12     pi_MAE 0.3612 +/- 0.0033 0.0624 +/- 0.0085 0.0000 +/- 0.0000\n",
      "\n",
      "Welch's t-test between BCF(no_pi_hat) and BCF(pi_hat):\n",
      "CATE_RMSE: t = -0.8970, df = 197.22, p-value = 0.3708\n",
      "The difference in CATE_RMSE between BCF(no_pi_hat) and BCF(pi_hat) is not statistically significant.\n",
      "CATE_MAE: t = -0.9163, df = 197.14, p-value = 0.3606\n",
      "The difference in CATE_MAE between BCF(no_pi_hat) and BCF(pi_hat) is not statistically significant.\n",
      "CATE_MAPE: t = 0.0161, df = 197.07, p-value = 0.9872\n",
      "The difference in CATE_MAPE between BCF(no_pi_hat) and BCF(pi_hat) is not statistically significant.\n",
      "CATE_cover: t = 0.7859, df = 196.27, p-value = 0.4329\n",
      "The difference in CATE_cover between BCF(no_pi_hat) and BCF(pi_hat) is not statistically significant.\n",
      "CATE_len: t = -0.1591, df = 197.88, p-value = 0.8737\n",
      "The difference in CATE_len between BCF(no_pi_hat) and BCF(pi_hat) is not statistically significant.\n",
      "ATE_RMSE: t = -0.9383, df = 197.71, p-value = 0.3492\n",
      "The difference in ATE_RMSE between BCF(no_pi_hat) and BCF(pi_hat) is not statistically significant.\n",
      "ATE_MAE: t = -0.9383, df = 197.71, p-value = 0.3492\n",
      "The difference in ATE_MAE between BCF(no_pi_hat) and BCF(pi_hat) is not statistically significant.\n",
      "ATE_MAPE: t = -0.9320, df = 197.74, p-value = 0.3525\n",
      "The difference in ATE_MAPE between BCF(no_pi_hat) and BCF(pi_hat) is not statistically significant.\n",
      "ATE_len: t = -2.4347, df = 196.43, p-value = 0.0158\n",
      "The difference in ATE_len between BCF(no_pi_hat) and BCF(pi_hat) is statistically significant.\n",
      "pi_RMSE: t = 257.6367, df = 117.37, p-value = 0.0000\n",
      "The difference in pi_RMSE between BCF(no_pi_hat) and BCF(pi_hat) is statistically significant.\n",
      "pi_MAE: t = 329.0717, df = 128.06, p-value = 0.0000\n",
      "The difference in pi_MAE between BCF(no_pi_hat) and BCF(pi_hat) is statistically significant.\n"
     ]
    }
   ],
   "source": [
    "file_names <- c(\"BCF(no_pi_hat)_N250.xlsx\", \"BCF_N250.xlsx\", \"BCF(pi_oracle)_N250.xlsx\")\n",
    "model_names <- c(\"BCF(no_pi_hat)\", \"BCF(pi_hat)\", \"BCF(pi_oracle)\")\n",
    "\n",
    "metrics <- c(\"CATE_RMSE\", \"CATE_MAE\", \"CATE_MAPE\", \"CATE_cover\", \"CATE_len\",\n",
    "             \"ATE_RMSE\", \"ATE_MAE\", \"ATE_MAPE\", \"ATE_cover\", \"ATE_len\", \"pi_RMSE\", \"pi_MAE\")\n",
    "\n",
    "\n",
    "# Function to read data and calculate summary statistics\n",
    "read_and_summarize <- function(file_name, model_name) {\n",
    "  df <- read_excel(file_name)\n",
    "  means <- df %>% summarise(across(all_of(metrics), mean)) %>%\n",
    "    pivot_longer(cols = everything(), names_to = \"metric\", values_to = \"mean\") %>%\n",
    "    mutate(model = model_name)\n",
    "  sds <- df %>% summarise(across(all_of(metrics), sd)) %>%\n",
    "    pivot_longer(cols = everything(), names_to = \"metric\", values_to = \"sd\") %>%\n",
    "    mutate(model = model_name)\n",
    "  return(list(means = means, sds = sds))\n",
    "}\n",
    "\n",
    "# Apply the function to each file\n",
    "summary_stats_list <- lapply(1:length(file_names), function(i) read_and_summarize(file_names[i], model_names[i]))\n",
    "\n",
    "# Combine means into a single data frame\n",
    "mean_df_long <- bind_rows(lapply(summary_stats_list, function(x) x$means))\n",
    "\n",
    "# Pivot the means data frame to the desired wide format\n",
    "mean_table <- mean_df_long %>%\n",
    "  pivot_wider(names_from = metric, values_from = mean) %>%\n",
    "  select(Model = model, all_of(metrics))\n",
    "\n",
    "# Combine standard deviations into a single data frame\n",
    "sd_df_long <- bind_rows(lapply(summary_stats_list, function(x) x$sds))\n",
    "\n",
    "# Pivot the standard deviations data frame to the desired wide format\n",
    "sd_table <- sd_df_long %>%\n",
    "  pivot_wider(names_from = metric, values_from = sd) %>%\n",
    "  select(Model = model, all_of(metrics))\n",
    "\n",
    "# Create a table with mean +/- standard deviation\n",
    "mean_sd_table <- data.frame(Metric = metrics)\n",
    "for (i in 1:length(model_names)) {\n",
    "  mean_values <- mean_table %>% filter(Model == model_names[i]) %>% select(-Model) %>% unlist()\n",
    "  sd_values <- sd_table %>% filter(Model == model_names[i]) %>% select(-Model) %>% unlist()\n",
    "  mean_sd_table[[model_names[i]]] <- paste0(sprintf(\"%.4f\", mean_values), \" +/- \", sprintf(\"%.4f\", sd_values))\n",
    "}\n",
    "\n",
    "# Print the tables\n",
    "cat(\"Table with Mean +/- Standard Deviation:\\n\")\n",
    "print(mean_sd_table)\n",
    "\n",
    "\n",
    "# Perform Welch's t-tests between BCF(no_pi_hat) and BCF(pi_hat)\n",
    "cat(\"\\nWelch's t-test between BCF(no_pi_hat) and BCF(pi_hat):\\n\")\n",
    "\n",
    "df_no_pi_hat <- read_excel(\"BCF(no_pi_hat)_N250.xlsx\")\n",
    "df_pi_hat <- read_excel(\"BCF_N250.xlsx\")\n",
    "\n",
    "metrics <- c(\"CATE_RMSE\", \"CATE_MAE\", \"CATE_MAPE\", \"CATE_cover\", \"CATE_len\",\n",
    "             \"ATE_RMSE\", \"ATE_MAE\", \"ATE_MAPE\", \"ATE_len\", \"pi_RMSE\", \"pi_MAE\")\n",
    "\n",
    "for (metric in metrics) {\n",
    "  test_result <- t.test(df_no_pi_hat[[metric]], df_pi_hat[[metric]], var.equal = FALSE)\n",
    "  cat(sprintf(\"%s: t = %.4f, df = %.2f, p-value = %.4f\\n\",\n",
    "              metric, test_result$statistic, test_result$parameter, test_result$p.value))\n",
    "  if (test_result$p.value < 0.05) {\n",
    "    cat(sprintf(\"The difference in %s between BCF(no_pi_hat) and BCF(pi_hat) is statistically significant.\\n\", metric))\n",
    "  } else {\n",
    "    cat(sprintf(\"The difference in %s between BCF(no_pi_hat) and BCF(pi_hat) is not statistically significant.\\n\", metric))\n",
    "  }\n",
    "}"
   ]
  },
  {
   "cell_type": "code",
   "execution_count": null,
   "metadata": {
    "vscode": {
     "languageId": "r"
    }
   },
   "outputs": [],
   "source": []
  }
 ],
 "metadata": {
  "kernelspec": {
   "display_name": "R",
   "language": "R",
   "name": "ir"
  },
  "language_info": {
   "codemirror_mode": "r",
   "file_extension": ".r",
   "mimetype": "text/x-r-source",
   "name": "R",
   "pygments_lexer": "r",
   "version": "4.4.3"
  }
 },
 "nbformat": 4,
 "nbformat_minor": 2
}
