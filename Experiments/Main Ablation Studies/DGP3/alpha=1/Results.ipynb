{
 "cells": [
  {
   "cell_type": "code",
   "execution_count": 1,
   "metadata": {
    "vscode": {
     "languageId": "r"
    }
   },
   "outputs": [
    {
     "name": "stderr",
     "output_type": "stream",
     "text": [
      "\n",
      "Anexando pacote: ‘dplyr’\n",
      "\n",
      "\n",
      "Os seguintes objetos são mascarados por ‘package:stats’:\n",
      "\n",
      "    filter, lag\n",
      "\n",
      "\n",
      "Os seguintes objetos são mascarados por ‘package:base’:\n",
      "\n",
      "    intersect, setdiff, setequal, union\n",
      "\n",
      "\n"
     ]
    }
   ],
   "source": [
    "library(readxl)\n",
    "library(dplyr)\n",
    "library(tidyr)\n"
   ]
  },
  {
   "cell_type": "markdown",
   "metadata": {},
   "source": [
    "# N=250"
   ]
  },
  {
   "cell_type": "code",
   "execution_count": 2,
   "metadata": {
    "vscode": {
     "languageId": "r"
    }
   },
   "outputs": [
    {
     "name": "stdout",
     "output_type": "stream",
     "text": [
      "Table with Mean +/- Standard Deviation:\n",
      "       Metric    BCF(no_pi_hat)       BCF(pi_hat)    BCF(pi_oracle)\n",
      "1   CATE_RMSE 0.2494 +/- 0.0764 0.2683 +/- 0.0827 0.2541 +/- 0.0767\n",
      "2    CATE_MAE 0.2083 +/- 0.0705 0.2254 +/- 0.0790 0.2116 +/- 0.0719\n",
      "3   CATE_MAPE 0.7072 +/- 0.3032 0.6277 +/- 0.1998 0.6295 +/- 0.2266\n",
      "4  CATE_cover 0.9488 +/- 0.0906 0.9295 +/- 0.1358 0.9400 +/- 0.1216\n",
      "5    CATE_len 1.0459 +/- 0.1339 1.0157 +/- 0.1325 1.0079 +/- 0.1281\n",
      "6    ATE_RMSE 0.1431 +/- 0.1067 0.1668 +/- 0.1158 0.1453 +/- 0.1086\n",
      "7     ATE_MAE 0.1431 +/- 0.1067 0.1668 +/- 0.1158 0.1453 +/- 0.1086\n",
      "8    ATE_MAPE 0.2867 +/- 0.2144 0.3332 +/- 0.2307 0.2907 +/- 0.2167\n",
      "9   ATE_cover 0.8800 +/- 0.3266 0.9000 +/- 0.3015 0.9400 +/- 0.2387\n",
      "10    ATE_len 0.6131 +/- 0.0480 0.6669 +/- 0.0631 0.6444 +/- 0.0551\n",
      "11    pi_RMSE 0.3115 +/- 0.0082 0.1224 +/- 0.0152 0.0000 +/- 0.0000\n",
      "12     pi_MAE 0.2786 +/- 0.0100 0.0949 +/- 0.0117 0.0000 +/- 0.0000\n",
      "\n",
      "Welch's t-test between BCF(no_pi_hat) and BCF(pi_hat):\n",
      "CATE_RMSE: t = -1.6770, df = 196.77, p-value = 0.0951\n",
      "The difference in CATE_RMSE between BCF(no_pi_hat) and BCF(pi_hat) is not statistically significant.\n",
      "CATE_MAE: t = -1.6092, df = 195.47, p-value = 0.1092\n",
      "The difference in CATE_MAE between BCF(no_pi_hat) and BCF(pi_hat) is not statistically significant.\n",
      "CATE_MAPE: t = 2.1908, df = 171.35, p-value = 0.0298\n",
      "The difference in CATE_MAPE between BCF(no_pi_hat) and BCF(pi_hat) is statistically significant.\n",
      "CATE_cover: t = 1.1786, df = 172.57, p-value = 0.2402\n",
      "The difference in CATE_cover between BCF(no_pi_hat) and BCF(pi_hat) is not statistically significant.\n",
      "CATE_len: t = 1.6049, df = 197.98, p-value = 0.1101\n",
      "The difference in CATE_len between BCF(no_pi_hat) and BCF(pi_hat) is not statistically significant.\n",
      "ATE_RMSE: t = -1.5052, df = 196.69, p-value = 0.1339\n",
      "The difference in ATE_RMSE between BCF(no_pi_hat) and BCF(pi_hat) is not statistically significant.\n",
      "ATE_MAE: t = -1.5052, df = 196.69, p-value = 0.1339\n",
      "The difference in ATE_MAE between BCF(no_pi_hat) and BCF(pi_hat) is not statistically significant.\n",
      "ATE_MAPE: t = -1.4787, df = 196.95, p-value = 0.1408\n",
      "The difference in ATE_MAPE between BCF(no_pi_hat) and BCF(pi_hat) is not statistically significant.\n",
      "ATE_len: t = -6.7833, df = 184.78, p-value = 0.0000\n",
      "The difference in ATE_len between BCF(no_pi_hat) and BCF(pi_hat) is statistically significant.\n",
      "pi_RMSE: t = 109.1861, df = 152.49, p-value = 0.0000\n",
      "The difference in pi_RMSE between BCF(no_pi_hat) and BCF(pi_hat) is statistically significant.\n",
      "pi_MAE: t = 119.2685, df = 193.49, p-value = 0.0000\n",
      "The difference in pi_MAE between BCF(no_pi_hat) and BCF(pi_hat) is statistically significant.\n"
     ]
    }
   ],
   "source": [
    "file_names <- c(\"BCF(no_pi_hat)_N250.xlsx\", \"BCF_N250.xlsx\", \"BCF(pi_oracle)_N250.xlsx\")\n",
    "model_names <- c(\"BCF(no_pi_hat)\", \"BCF(pi_hat)\", \"BCF(pi_oracle)\")\n",
    "\n",
    "metrics <- c(\"CATE_RMSE\", \"CATE_MAE\", \"CATE_MAPE\", \"CATE_cover\", \"CATE_len\",\n",
    "             \"ATE_RMSE\", \"ATE_MAE\", \"ATE_MAPE\", \"ATE_cover\", \"ATE_len\", \"pi_RMSE\", \"pi_MAE\")\n",
    "\n",
    "\n",
    "# Function to read data and calculate summary statistics\n",
    "read_and_summarize <- function(file_name, model_name) {\n",
    "  df <- read_excel(file_name)\n",
    "  means <- df %>% summarise(across(all_of(metrics), mean)) %>%\n",
    "    pivot_longer(cols = everything(), names_to = \"metric\", values_to = \"mean\") %>%\n",
    "    mutate(model = model_name)\n",
    "  sds <- df %>% summarise(across(all_of(metrics), sd)) %>%\n",
    "    pivot_longer(cols = everything(), names_to = \"metric\", values_to = \"sd\") %>%\n",
    "    mutate(model = model_name)\n",
    "  return(list(means = means, sds = sds))\n",
    "}\n",
    "\n",
    "# Apply the function to each file\n",
    "summary_stats_list <- lapply(1:length(file_names), function(i) read_and_summarize(file_names[i], model_names[i]))\n",
    "\n",
    "# Combine means into a single data frame\n",
    "mean_df_long <- bind_rows(lapply(summary_stats_list, function(x) x$means))\n",
    "\n",
    "# Pivot the means data frame to the desired wide format\n",
    "mean_table <- mean_df_long %>%\n",
    "  pivot_wider(names_from = metric, values_from = mean) %>%\n",
    "  select(Model = model, all_of(metrics))\n",
    "\n",
    "# Combine standard deviations into a single data frame\n",
    "sd_df_long <- bind_rows(lapply(summary_stats_list, function(x) x$sds))\n",
    "\n",
    "# Pivot the standard deviations data frame to the desired wide format\n",
    "sd_table <- sd_df_long %>%\n",
    "  pivot_wider(names_from = metric, values_from = sd) %>%\n",
    "  select(Model = model, all_of(metrics))\n",
    "\n",
    "# Create a table with mean +/- standard deviation\n",
    "mean_sd_table <- data.frame(Metric = metrics)\n",
    "for (i in 1:length(model_names)) {\n",
    "  mean_values <- mean_table %>% filter(Model == model_names[i]) %>% select(-Model) %>% unlist()\n",
    "  sd_values <- sd_table %>% filter(Model == model_names[i]) %>% select(-Model) %>% unlist()\n",
    "  mean_sd_table[[model_names[i]]] <- paste0(sprintf(\"%.4f\", mean_values), \" +/- \", sprintf(\"%.4f\", sd_values))\n",
    "}\n",
    "\n",
    "# Print the tables\n",
    "cat(\"Table with Mean +/- Standard Deviation:\\n\")\n",
    "print(mean_sd_table)\n",
    "\n",
    "\n",
    "# Perform Welch's t-tests between BCF(no_pi_hat) and BCF(pi_hat)\n",
    "cat(\"\\nWelch's t-test between BCF(no_pi_hat) and BCF(pi_hat):\\n\")\n",
    "\n",
    "df_no_pi_hat <- read_excel(\"BCF(no_pi_hat)_N250.xlsx\")\n",
    "df_pi_hat <- read_excel(\"BCF_N250.xlsx\")\n",
    "\n",
    "metrics <- c(\"CATE_RMSE\", \"CATE_MAE\", \"CATE_MAPE\", \"CATE_cover\", \"CATE_len\",\n",
    "             \"ATE_RMSE\", \"ATE_MAE\", \"ATE_MAPE\", \"ATE_len\", \"pi_RMSE\", \"pi_MAE\")\n",
    "\n",
    "for (metric in metrics) {\n",
    "  test_result <- t.test(df_no_pi_hat[[metric]], df_pi_hat[[metric]], var.equal = FALSE)\n",
    "  cat(sprintf(\"%s: t = %.4f, df = %.2f, p-value = %.4f\\n\",\n",
    "              metric, test_result$statistic, test_result$parameter, test_result$p.value))\n",
    "  if (test_result$p.value < 0.05) {\n",
    "    cat(sprintf(\"The difference in %s between BCF(no_pi_hat) and BCF(pi_hat) is statistically significant.\\n\", metric))\n",
    "  } else {\n",
    "    cat(sprintf(\"The difference in %s between BCF(no_pi_hat) and BCF(pi_hat) is not statistically significant.\\n\", metric))\n",
    "  }\n",
    "}"
   ]
  }
 ],
 "metadata": {
  "kernelspec": {
   "display_name": "R",
   "language": "R",
   "name": "ir"
  },
  "language_info": {
   "codemirror_mode": "r",
   "file_extension": ".r",
   "mimetype": "text/x-r-source",
   "name": "R",
   "pygments_lexer": "r",
   "version": "4.4.3"
  }
 },
 "nbformat": 4,
 "nbformat_minor": 2
}
