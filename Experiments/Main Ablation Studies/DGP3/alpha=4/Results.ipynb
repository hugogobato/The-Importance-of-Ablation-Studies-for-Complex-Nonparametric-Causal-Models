{
 "cells": [
  {
   "cell_type": "code",
   "execution_count": 1,
   "metadata": {
    "vscode": {
     "languageId": "r"
    }
   },
   "outputs": [
    {
     "name": "stderr",
     "output_type": "stream",
     "text": [
      "\n",
      "Anexando pacote: ‘dplyr’\n",
      "\n",
      "\n",
      "Os seguintes objetos são mascarados por ‘package:stats’:\n",
      "\n",
      "    filter, lag\n",
      "\n",
      "\n",
      "Os seguintes objetos são mascarados por ‘package:base’:\n",
      "\n",
      "    intersect, setdiff, setequal, union\n",
      "\n",
      "\n"
     ]
    }
   ],
   "source": [
    "library(readxl)\n",
    "library(dplyr)\n",
    "library(tidyr)\n"
   ]
  },
  {
   "cell_type": "markdown",
   "metadata": {},
   "source": [
    "# N=250"
   ]
  },
  {
   "cell_type": "code",
   "execution_count": 2,
   "metadata": {
    "vscode": {
     "languageId": "r"
    }
   },
   "outputs": [
    {
     "name": "stdout",
     "output_type": "stream",
     "text": [
      "Table with Mean +/- Standard Deviation:\n",
      "       Metric    BCF(no_pi_hat)       BCF(pi_hat)    BCF(pi_oracle)\n",
      "1   CATE_RMSE 0.1467 +/- 0.0988 0.1294 +/- 0.0828 0.1310 +/- 0.0874\n",
      "2    CATE_MAE 0.1323 +/- 0.0967 0.1152 +/- 0.0798 0.1168 +/- 0.0844\n",
      "3   CATE_MAPE 1.6483 +/- 1.3334 1.2843 +/- 1.0455 1.3394 +/- 1.1784\n",
      "4  CATE_cover 0.9825 +/- 0.0651 0.9891 +/- 0.0563 0.9836 +/- 0.0774\n",
      "5    CATE_len 0.8512 +/- 0.1470 0.8346 +/- 0.1460 0.8181 +/- 0.1509\n",
      "6    ATE_RMSE 0.1174 +/- 0.1055 0.0997 +/- 0.0874 0.0997 +/- 0.0936\n",
      "7     ATE_MAE 0.1174 +/- 0.1055 0.0997 +/- 0.0874 0.0997 +/- 0.0936\n",
      "8    ATE_MAPE 0.9396 +/- 0.8522 0.7988 +/- 0.7053 0.7996 +/- 0.7582\n",
      "9   ATE_cover 0.9100 +/- 0.2876 0.9700 +/- 0.1714 0.9400 +/- 0.2387\n",
      "10    ATE_len 0.5553 +/- 0.0589 0.5645 +/- 0.0669 0.5425 +/- 0.0618\n",
      "11    pi_RMSE 0.3124 +/- 0.0066 0.1189 +/- 0.0153 0.0000 +/- 0.0000\n",
      "12     pi_MAE 0.2802 +/- 0.0082 0.0928 +/- 0.0115 0.0000 +/- 0.0000\n",
      "\n",
      "Welch's t-test between BCF(no_pi_hat) and BCF(pi_hat):\n",
      "CATE_RMSE: t = 1.3459, df = 192.13, p-value = 0.1799\n",
      "The difference in CATE_RMSE between BCF(no_pi_hat) and BCF(pi_hat) is not statistically significant.\n",
      "CATE_MAE: t = 1.3601, df = 191.12, p-value = 0.1754\n",
      "The difference in CATE_MAE between BCF(no_pi_hat) and BCF(pi_hat) is not statistically significant.\n",
      "CATE_MAPE: t = 2.1482, df = 187.34, p-value = 0.0330\n",
      "The difference in CATE_MAPE between BCF(no_pi_hat) and BCF(pi_hat) is statistically significant.\n",
      "CATE_cover: t = -0.7667, df = 194.01, p-value = 0.4442\n",
      "The difference in CATE_cover between BCF(no_pi_hat) and BCF(pi_hat) is not statistically significant.\n",
      "CATE_len: t = 0.8026, df = 197.99, p-value = 0.4232\n",
      "The difference in CATE_len between BCF(no_pi_hat) and BCF(pi_hat) is not statistically significant.\n",
      "ATE_RMSE: t = 1.2876, df = 191.39, p-value = 0.1994\n",
      "The difference in ATE_RMSE between BCF(no_pi_hat) and BCF(pi_hat) is not statistically significant.\n",
      "ATE_MAE: t = 1.2876, df = 191.39, p-value = 0.1994\n",
      "The difference in ATE_MAE between BCF(no_pi_hat) and BCF(pi_hat) is not statistically significant.\n",
      "ATE_MAPE: t = 1.2726, df = 191.31, p-value = 0.2047\n",
      "The difference in ATE_MAPE between BCF(no_pi_hat) and BCF(pi_hat) is not statistically significant.\n",
      "ATE_len: t = -1.0304, df = 194.87, p-value = 0.3041\n",
      "The difference in ATE_len between BCF(no_pi_hat) and BCF(pi_hat) is not statistically significant.\n",
      "pi_RMSE: t = 115.9094, df = 134.30, p-value = 0.0000\n",
      "The difference in pi_RMSE between BCF(no_pi_hat) and BCF(pi_hat) is statistically significant.\n",
      "pi_MAE: t = 132.4969, df = 179.19, p-value = 0.0000\n",
      "The difference in pi_MAE between BCF(no_pi_hat) and BCF(pi_hat) is statistically significant.\n"
     ]
    }
   ],
   "source": [
    "file_names <- c(\"BCF(no_pi_hat)_N250.xlsx\", \"BCF_N250.xlsx\", \"BCF(pi_oracle)_N250.xlsx\")\n",
    "model_names <- c(\"BCF(no_pi_hat)\", \"BCF(pi_hat)\", \"BCF(pi_oracle)\")\n",
    "\n",
    "metrics <- c(\"CATE_RMSE\", \"CATE_MAE\", \"CATE_MAPE\", \"CATE_cover\", \"CATE_len\",\n",
    "             \"ATE_RMSE\", \"ATE_MAE\", \"ATE_MAPE\", \"ATE_cover\", \"ATE_len\", \"pi_RMSE\", \"pi_MAE\")\n",
    "\n",
    "\n",
    "# Function to read data and calculate summary statistics\n",
    "read_and_summarize <- function(file_name, model_name) {\n",
    "  df <- read_excel(file_name)\n",
    "  means <- df %>% summarise(across(all_of(metrics), mean)) %>%\n",
    "    pivot_longer(cols = everything(), names_to = \"metric\", values_to = \"mean\") %>%\n",
    "    mutate(model = model_name)\n",
    "  sds <- df %>% summarise(across(all_of(metrics), sd)) %>%\n",
    "    pivot_longer(cols = everything(), names_to = \"metric\", values_to = \"sd\") %>%\n",
    "    mutate(model = model_name)\n",
    "  return(list(means = means, sds = sds))\n",
    "}\n",
    "\n",
    "# Apply the function to each file\n",
    "summary_stats_list <- lapply(1:length(file_names), function(i) read_and_summarize(file_names[i], model_names[i]))\n",
    "\n",
    "# Combine means into a single data frame\n",
    "mean_df_long <- bind_rows(lapply(summary_stats_list, function(x) x$means))\n",
    "\n",
    "# Pivot the means data frame to the desired wide format\n",
    "mean_table <- mean_df_long %>%\n",
    "  pivot_wider(names_from = metric, values_from = mean) %>%\n",
    "  select(Model = model, all_of(metrics))\n",
    "\n",
    "# Combine standard deviations into a single data frame\n",
    "sd_df_long <- bind_rows(lapply(summary_stats_list, function(x) x$sds))\n",
    "\n",
    "# Pivot the standard deviations data frame to the desired wide format\n",
    "sd_table <- sd_df_long %>%\n",
    "  pivot_wider(names_from = metric, values_from = sd) %>%\n",
    "  select(Model = model, all_of(metrics))\n",
    "\n",
    "# Create a table with mean +/- standard deviation\n",
    "mean_sd_table <- data.frame(Metric = metrics)\n",
    "for (i in 1:length(model_names)) {\n",
    "  mean_values <- mean_table %>% filter(Model == model_names[i]) %>% select(-Model) %>% unlist()\n",
    "  sd_values <- sd_table %>% filter(Model == model_names[i]) %>% select(-Model) %>% unlist()\n",
    "  mean_sd_table[[model_names[i]]] <- paste0(sprintf(\"%.4f\", mean_values), \" +/- \", sprintf(\"%.4f\", sd_values))\n",
    "}\n",
    "\n",
    "# Print the tables\n",
    "cat(\"Table with Mean +/- Standard Deviation:\\n\")\n",
    "print(mean_sd_table)\n",
    "\n",
    "\n",
    "# Perform Welch's t-tests between BCF(no_pi_hat) and BCF(pi_hat)\n",
    "cat(\"\\nWelch's t-test between BCF(no_pi_hat) and BCF(pi_hat):\\n\")\n",
    "\n",
    "df_no_pi_hat <- read_excel(\"BCF(no_pi_hat)_N250.xlsx\")\n",
    "df_pi_hat <- read_excel(\"BCF_N250.xlsx\")\n",
    "\n",
    "metrics <- c(\"CATE_RMSE\", \"CATE_MAE\", \"CATE_MAPE\", \"CATE_cover\", \"CATE_len\",\n",
    "             \"ATE_RMSE\", \"ATE_MAE\", \"ATE_MAPE\", \"ATE_len\", \"pi_RMSE\", \"pi_MAE\")\n",
    "\n",
    "for (metric in metrics) {\n",
    "  test_result <- t.test(df_no_pi_hat[[metric]], df_pi_hat[[metric]], var.equal = FALSE)\n",
    "  cat(sprintf(\"%s: t = %.4f, df = %.2f, p-value = %.4f\\n\",\n",
    "              metric, test_result$statistic, test_result$parameter, test_result$p.value))\n",
    "  if (test_result$p.value < 0.05) {\n",
    "    cat(sprintf(\"The difference in %s between BCF(no_pi_hat) and BCF(pi_hat) is statistically significant.\\n\", metric))\n",
    "  } else {\n",
    "    cat(sprintf(\"The difference in %s between BCF(no_pi_hat) and BCF(pi_hat) is not statistically significant.\\n\", metric))\n",
    "  }\n",
    "}"
   ]
  },
  {
   "cell_type": "code",
   "execution_count": null,
   "metadata": {
    "vscode": {
     "languageId": "r"
    }
   },
   "outputs": [],
   "source": []
  }
 ],
 "metadata": {
  "kernelspec": {
   "display_name": "R",
   "language": "R",
   "name": "ir"
  },
  "language_info": {
   "codemirror_mode": "r",
   "file_extension": ".r",
   "mimetype": "text/x-r-source",
   "name": "R",
   "pygments_lexer": "r",
   "version": "4.4.3"
  }
 },
 "nbformat": 4,
 "nbformat_minor": 2
}
